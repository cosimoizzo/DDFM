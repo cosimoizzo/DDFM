{
 "cells": [
  {
   "cell_type": "code",
   "execution_count": null,
   "id": "3beeb597-3e2b-4045-8329-04180ac5d529",
   "metadata": {},
   "outputs": [],
   "source": [
    "import os,sys,inspect\n",
    "# currentdir = os.path.dirname(os.path.abspath(inspect.getfile(inspect.currentframe())))\n",
    "# parentdir = os.path.dirname(currentdir)\n",
    "# parentdir = os.path.dirname(parentdir)\n",
    "parentdir = \"C:\\\\Users\\\\cosim\\\\PycharmProjects\\\\DDFM\"\n",
    "sys.path.insert(0,parentdir)"
   ]
  },
  {
   "cell_type": "code",
   "execution_count": null,
   "id": "adf2201c-e8ba-40aa-8e27-5cd643a18a6d",
   "metadata": {},
   "outputs": [],
   "source": [
    "import pandas as pd\n",
    "from pandas.tseries.offsets import MonthEnd"
   ]
  },
  {
   "cell_type": "code",
   "execution_count": null,
   "id": "d223157d-8101-4488-a485-af974208475f",
   "metadata": {},
   "outputs": [],
   "source": [
    "start_date=pd.Timestamp(\"1990-01-01\")"
   ]
  },
  {
   "cell_type": "code",
   "execution_count": null,
   "id": "80cd7476-9141-4033-95ea-98368e105140",
   "metadata": {},
   "outputs": [],
   "source": [
    "data_m_all = pd.read_csv(os.path.join(parentdir, \"examples\", \"empirical\",\"data\",\"mdfred_snapshot_monthly.csv\"))\n",
    "transform_code_m = data_m_all.iloc[0,1:]\n",
    "data_m = data_m_all.iloc[1:,:].set_index(\"sasdate\")\n",
    "data_m.index = pd.to_datetime(data_m.index)\n",
    "# convert to month end\n",
    "data_m.index = data_m.index + MonthEnd()\n",
    "data_m = data_m[data_m.index>=start_date]"
   ]
  },
  {
   "cell_type": "code",
   "execution_count": null,
   "id": "e20012f9-3c44-41e8-b96f-d3aff96e98b0",
   "metadata": {},
   "outputs": [],
   "source": []
  }
 ],
 "metadata": {
  "kernelspec": {
   "display_name": "Python 3 (ipykernel)",
   "language": "python",
   "name": "python3"
  },
  "language_info": {
   "codemirror_mode": {
    "name": "ipython",
    "version": 3
   },
   "file_extension": ".py",
   "mimetype": "text/x-python",
   "name": "python",
   "nbconvert_exporter": "python",
   "pygments_lexer": "ipython3",
   "version": "3.8.10"
  }
 },
 "nbformat": 4,
 "nbformat_minor": 5
}
