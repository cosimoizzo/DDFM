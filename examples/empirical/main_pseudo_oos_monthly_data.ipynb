{
 "cells": [
  {
   "cell_type": "code",
   "execution_count": 1,
   "id": "3beeb597-3e2b-4045-8329-04180ac5d529",
   "metadata": {},
   "outputs": [],
   "source": [
    "import os,sys,inspect\n",
    "# currentdir = os.path.dirname(os.path.abspath(inspect.getfile(inspect.currentframe())))\n",
    "# parentdir = os.path.dirname(currentdir)\n",
    "# parentdir = os.path.dirname(parentdir)\n",
    "parentdir = \"C:\\\\Users\\\\cosim\\\\PycharmProjects\\\\DDFM\"\n",
    "sys.path.insert(0,parentdir)\n",
    "import pickle\n",
    "import pandas as pd\n",
    "import numpy as np\n",
    "from pandas.tseries.offsets import MonthEnd\n",
    "from implementation.model_validation import Validate, Ddfm_simple\n",
    "from implementation.bai_ng_utils import transform_variables#, untransform_variables\n",
    "from tqdm import tqdm"
   ]
  },
  {
   "cell_type": "code",
   "execution_count": 2,
   "id": "0f6e1139-44ea-466a-b8b9-57b3857ba92e",
   "metadata": {},
   "outputs": [],
   "source": [
    "start_date = pd.Timestamp(\"1990-01-01\")\n",
    "start_oos = pd.Timestamp(\"2005-01-01\")"
   ]
  },
  {
   "cell_type": "code",
   "execution_count": 3,
   "id": "ba3abe9b-3b39-48b2-b809-ec225a7ab0d6",
   "metadata": {},
   "outputs": [],
   "source": [
    "# data\n",
    "data_m_all = pd.read_csv(os.path.join(parentdir, \"examples\", \"empirical\",\"data\",\"mdfred_snapshot_monthly.csv\"))\n",
    "transform_code_m = data_m_all.iloc[0,1:].astype(int)\n",
    "# mapping second diff to first diff\n",
    "# 6 goes to 5\n",
    "transform_code_m[transform_code_m==6] = 5\n",
    "# 3 goes to 2\n",
    "transform_code_m[transform_code_m==3] = 2\n",
    "data_m = data_m_all.iloc[1:,:].set_index(\"sasdate\")\n",
    "data_m.index = pd.to_datetime(data_m.index)\n",
    "# convert to month end\n",
    "data_m.index = data_m.index + MonthEnd()\n",
    "# transform data\n",
    "data_m = transform_variables(data_m, transform_code_m)\n",
    "data_m = data_m[data_m.index>=start_date]"
   ]
  },
  {
   "cell_type": "code",
   "execution_count": 4,
   "id": "a2f93bbe-494d-4711-b411-955540d186c4",
   "metadata": {},
   "outputs": [
    {
     "name": "stdout",
     "output_type": "stream",
     "text": [
      "{1, 2, 4, 5, 7}\n"
     ]
    }
   ],
   "source": [
    "print(set(transform_code_m))"
   ]
  },
  {
   "cell_type": "code",
   "execution_count": 5,
   "id": "3a2122a184fe5447",
   "metadata": {
    "collapsed": false,
    "jupyter": {
     "outputs_hidden": false
    }
   },
   "outputs": [],
   "source": [
    "# ddfms configs\n",
    "hypers_asymmetric_ddfm = {'lags_input': [0, 3],\n",
    "                          'structure_encoder': [[6*4, 6*2, 6],\n",
    "                                                [5*4, 5*2, 5],\n",
    "                                                [4*4, 4*2, 4],\n",
    "                                                [3*4, 3*2, 3]\n",
    "                                               ],\n",
    "                          'link': [\"tanh\", \"relu\"],\n",
    "                          'symmetric_decoder': [False],\n",
    "                          'seed': [1, 2, 3], \n",
    "                          }\n",
    "hypers_symmetric_ddfm = hypers_asymmetric_ddfm.copy()\n",
    "hypers_symmetric_ddfm[\"symmetric_decoder\"] = [True]"
   ]
  },
  {
   "cell_type": "code",
   "execution_count": 6,
   "id": "850628cd-dace-4e66-95d8-0265d286902f",
   "metadata": {},
   "outputs": [],
   "source": [
    "# - CPIAUCSL: inflation all\n",
    "# - PAYEMS: nfp all\n",
    "# - RETAILx : retail sales\n",
    "# - INDPRO: industrial production\n",
    "# - RPI: real personal income\n",
    "selected = [\"CPIAUCSL\", \"PAYEMS\", \"RETAILx\", \"INDPRO\", \"RPI\"]\n",
    "idx_selected = [int(np.where(data_m.columns == i)[0]) for i in selected]\n",
    "idx_selected.sort()"
   ]
  },
  {
   "cell_type": "code",
   "execution_count": 7,
   "id": "80cd7476-9141-4033-95ea-98368e105140",
   "metadata": {
    "scrolled": true
   },
   "outputs": [
    {
     "name": "stderr",
     "output_type": "stream",
     "text": [
      "  0%|                                                                                                                                                      | 0/226 [00:00<?, ?it/s]"
     ]
    },
    {
     "name": "stdout",
     "output_type": "stream",
     "text": [
      "@Info - Note: Sorting data.\n",
      "@Info: Convergence achieved in 28 iterations - new loss: 0.524219566940718 - delta: 0.000297129568014953 < 0.0005\n",
      "@Info - Note: Sorting data.\n",
      "@Info: Convergence achieved in 4 iterations - new loss: 0.5099807201776747 - delta: 0.00035241075107479887 < 0.0005\n"
     ]
    },
    {
     "name": "stderr",
     "output_type": "stream",
     "text": [
      "  5%|███████▍                                                                                                                                   | 12/226 [30:37<2:12:40, 37.20s/it]"
     ]
    },
    {
     "name": "stdout",
     "output_type": "stream",
     "text": [
      "@Info - Note: Sorting data.\n",
      "@Info: Convergence achieved in 21 iterations - new loss: 0.5688067869778966 - delta: 0.00047899464353587184 < 0.0005\n"
     ]
    },
    {
     "name": "stderr",
     "output_type": "stream",
     "text": [
      "C:\\Users\\cosim\\PycharmProjects\\DDFM\\venv\\lib\\site-packages\\joblib\\externals\\loky\\process_executor.py:752: UserWarning: A worker stopped while some jobs were given to the executor. This can be caused by a too short worker timeout or by a memory leak.\n",
      "  warnings.warn(\n"
     ]
    },
    {
     "name": "stdout",
     "output_type": "stream",
     "text": [
      "@Info - Note: Sorting data.\n",
      "@Info: Convergence achieved in 9 iterations - new loss: 0.5076811875250326 - delta: 1.0371575065117781e-05 < 0.0005\n"
     ]
    },
    {
     "name": "stderr",
     "output_type": "stream",
     "text": [
      " 11%|██████████████▌                                                                                                                          | 24/226 [2:16:57<2:14:44, 40.02s/it]C:\\Users\\cosim\\PycharmProjects\\DDFM\\venv\\lib\\site-packages\\joblib\\externals\\loky\\process_executor.py:752: UserWarning: A worker stopped while some jobs were given to the executor. This can be caused by a too short worker timeout or by a memory leak.\n",
      "  warnings.warn(\n"
     ]
    },
    {
     "name": "stdout",
     "output_type": "stream",
     "text": [
      "@Info - Note: Sorting data.\n",
      "@Info: Convergence achieved in 26 iterations - new loss: 0.7525597217762328 - delta: 8.220335252965945e-05 < 0.0005\n"
     ]
    },
    {
     "name": "stderr",
     "output_type": "stream",
     "text": [
      "C:\\Users\\cosim\\PycharmProjects\\DDFM\\venv\\lib\\site-packages\\joblib\\externals\\loky\\process_executor.py:752: UserWarning: A worker stopped while some jobs were given to the executor. This can be caused by a too short worker timeout or by a memory leak.\n",
      "  warnings.warn(\n"
     ]
    },
    {
     "name": "stdout",
     "output_type": "stream",
     "text": [
      "@Info - Note: Sorting data.\n",
      "@Info: Convergence achieved in 17 iterations - new loss: 0.7237059687999349 - delta: 0.00021301636888183782 < 0.0005\n"
     ]
    },
    {
     "name": "stderr",
     "output_type": "stream",
     "text": [
      " 16%|█████████████████████▊                                                                                                                   | 36/226 [4:07:03<2:11:16, 41.45s/it]C:\\Users\\cosim\\PycharmProjects\\DDFM\\venv\\lib\\site-packages\\joblib\\externals\\loky\\process_executor.py:752: UserWarning: A worker stopped while some jobs were given to the executor. This can be caused by a too short worker timeout or by a memory leak.\n",
      "  warnings.warn(\n"
     ]
    },
    {
     "name": "stdout",
     "output_type": "stream",
     "text": [
      "@Info - Note: Sorting data.\n",
      "@Info: Convergence achieved in 17 iterations - new loss: 0.5145544963315182 - delta: 0.0002733611862391745 < 0.0005\n"
     ]
    },
    {
     "name": "stderr",
     "output_type": "stream",
     "text": [
      "C:\\Users\\cosim\\PycharmProjects\\DDFM\\venv\\lib\\site-packages\\joblib\\externals\\loky\\process_executor.py:752: UserWarning: A worker stopped while some jobs were given to the executor. This can be caused by a too short worker timeout or by a memory leak.\n",
      "  warnings.warn(\n"
     ]
    },
    {
     "name": "stdout",
     "output_type": "stream",
     "text": [
      "@Info - Note: Sorting data.\n",
      "@Info: Convergence achieved in 7 iterations - new loss: 0.5740945477601123 - delta: 5.0148564694831594e-05 < 0.0005\n"
     ]
    },
    {
     "name": "stderr",
     "output_type": "stream",
     "text": [
      " 21%|█████████████████████████████                                                                                                            | 48/226 [5:49:31<1:54:44, 38.68s/it]C:\\Users\\cosim\\PycharmProjects\\DDFM\\venv\\lib\\site-packages\\joblib\\externals\\loky\\process_executor.py:752: UserWarning: A worker stopped while some jobs were given to the executor. This can be caused by a too short worker timeout or by a memory leak.\n",
      "  warnings.warn(\n"
     ]
    },
    {
     "name": "stdout",
     "output_type": "stream",
     "text": [
      "@Info - Note: Sorting data.\n",
      "@Info: Convergence achieved in 25 iterations - new loss: 0.44047071960901946 - delta: 0.00044327646980992934 < 0.0005\n"
     ]
    },
    {
     "name": "stderr",
     "output_type": "stream",
     "text": [
      "C:\\Users\\cosim\\PycharmProjects\\DDFM\\venv\\lib\\site-packages\\joblib\\externals\\loky\\process_executor.py:752: UserWarning: A worker stopped while some jobs were given to the executor. This can be caused by a too short worker timeout or by a memory leak.\n",
      "  warnings.warn(\n"
     ]
    },
    {
     "name": "stdout",
     "output_type": "stream",
     "text": [
      "@Info - Note: Sorting data.\n",
      "@Info: Convergence achieved in 13 iterations - new loss: 0.5444535820504663 - delta: 1.3471859486475047e-05 < 0.0005\n"
     ]
    },
    {
     "name": "stderr",
     "output_type": "stream",
     "text": [
      " 27%|████████████████████████████████████▎                                                                                                    | 60/226 [7:33:13<1:48:06, 39.07s/it]C:\\Users\\cosim\\PycharmProjects\\DDFM\\venv\\lib\\site-packages\\joblib\\externals\\loky\\process_executor.py:752: UserWarning: A worker stopped while some jobs were given to the executor. This can be caused by a too short worker timeout or by a memory leak.\n",
      "  warnings.warn(\n"
     ]
    },
    {
     "name": "stdout",
     "output_type": "stream",
     "text": [
      "@Info - Note: Sorting data.\n",
      "@Info: Convergence achieved in 23 iterations - new loss: 0.5123377359974413 - delta: 0.000398003874163079 < 0.0005\n"
     ]
    },
    {
     "name": "stderr",
     "output_type": "stream",
     "text": [
      "C:\\Users\\cosim\\PycharmProjects\\DDFM\\venv\\lib\\site-packages\\joblib\\externals\\loky\\process_executor.py:752: UserWarning: A worker stopped while some jobs were given to the executor. This can be caused by a too short worker timeout or by a memory leak.\n",
      "  warnings.warn(\n"
     ]
    },
    {
     "name": "stdout",
     "output_type": "stream",
     "text": [
      "@Info - Note: Sorting data.\n",
      "@Info: Convergence achieved in 10 iterations - new loss: 0.5598811955033104 - delta: 5.523790406990584e-05 < 0.0005\n"
     ]
    },
    {
     "name": "stderr",
     "output_type": "stream",
     "text": [
      " 32%|███████████████████████████████████████████▋                                                                                             | 72/226 [9:36:05<1:58:00, 45.98s/it]C:\\Users\\cosim\\PycharmProjects\\DDFM\\venv\\lib\\site-packages\\joblib\\externals\\loky\\process_executor.py:752: UserWarning: A worker stopped while some jobs were given to the executor. This can be caused by a too short worker timeout or by a memory leak.\n",
      "  warnings.warn(\n"
     ]
    },
    {
     "name": "stdout",
     "output_type": "stream",
     "text": [
      "@Info - Note: Sorting data.\n",
      "@Info: Convergence achieved in 19 iterations - new loss: 0.5282018438277346 - delta: 2.7812601194954338e-05 < 0.0005\n"
     ]
    },
    {
     "name": "stderr",
     "output_type": "stream",
     "text": [
      "C:\\Users\\cosim\\PycharmProjects\\DDFM\\venv\\lib\\site-packages\\joblib\\externals\\loky\\process_executor.py:752: UserWarning: A worker stopped while some jobs were given to the executor. This can be caused by a too short worker timeout or by a memory leak.\n",
      "  warnings.warn(\n"
     ]
    },
    {
     "name": "stdout",
     "output_type": "stream",
     "text": [
      "@Info - Note: Sorting data.\n",
      "@Info: Convergence achieved in 9 iterations - new loss: 0.4875433654421025 - delta: 0.00047683612451561046 < 0.0005\n"
     ]
    },
    {
     "name": "stderr",
     "output_type": "stream",
     "text": [
      " 37%|██████████████████████████████████████████████████▌                                                                                     | 84/226 [11:21:41<1:34:22, 39.88s/it]C:\\Users\\cosim\\PycharmProjects\\DDFM\\venv\\lib\\site-packages\\joblib\\externals\\loky\\process_executor.py:752: UserWarning: A worker stopped while some jobs were given to the executor. This can be caused by a too short worker timeout or by a memory leak.\n",
      "  warnings.warn(\n"
     ]
    },
    {
     "name": "stdout",
     "output_type": "stream",
     "text": [
      "@Info - Note: Sorting data.\n",
      "@Info: Convergence achieved in 26 iterations - new loss: 0.543794256515085 - delta: 0.00033513798345047275 < 0.0005\n"
     ]
    },
    {
     "name": "stderr",
     "output_type": "stream",
     "text": [
      "C:\\Users\\cosim\\PycharmProjects\\DDFM\\venv\\lib\\site-packages\\joblib\\externals\\loky\\process_executor.py:752: UserWarning: A worker stopped while some jobs were given to the executor. This can be caused by a too short worker timeout or by a memory leak.\n",
      "  warnings.warn(\n"
     ]
    },
    {
     "name": "stdout",
     "output_type": "stream",
     "text": [
      "@Info - Note: Sorting data.\n",
      "@Info: Convergence achieved in 12 iterations - new loss: 0.643607034488184 - delta: 0.0004990700875962351 < 0.0005\n"
     ]
    },
    {
     "name": "stderr",
     "output_type": "stream",
     "text": [
      " 42%|█████████████████████████████████████████████████████████▊                                                                              | 96/226 [13:05:57<1:25:07, 39.29s/it]C:\\Users\\cosim\\PycharmProjects\\DDFM\\venv\\lib\\site-packages\\joblib\\externals\\loky\\process_executor.py:752: UserWarning: A worker stopped while some jobs were given to the executor. This can be caused by a too short worker timeout or by a memory leak.\n",
      "  warnings.warn(\n"
     ]
    },
    {
     "name": "stdout",
     "output_type": "stream",
     "text": [
      "@Info - Note: Sorting data.\n",
      "@Info: Convergence achieved in 12 iterations - new loss: 0.5695669105959176 - delta: 0.0001432604332178901 < 0.0005\n"
     ]
    },
    {
     "name": "stderr",
     "output_type": "stream",
     "text": [
      "C:\\Users\\cosim\\PycharmProjects\\DDFM\\venv\\lib\\site-packages\\joblib\\externals\\loky\\process_executor.py:752: UserWarning: A worker stopped while some jobs were given to the executor. This can be caused by a too short worker timeout or by a memory leak.\n",
      "  warnings.warn(\n"
     ]
    },
    {
     "name": "stdout",
     "output_type": "stream",
     "text": [
      "@Info - Note: Sorting data.\n",
      "@Info: Convergence achieved in 4 iterations - new loss: 0.4932115151688518 - delta: 0.00015356629077787744 < 0.0005\n"
     ]
    },
    {
     "name": "stderr",
     "output_type": "stream",
     "text": [
      " 48%|████████████████████████████████████████████████████████████████▌                                                                      | 108/226 [15:08:04<1:29:52, 45.70s/it]C:\\Users\\cosim\\PycharmProjects\\DDFM\\venv\\lib\\site-packages\\joblib\\externals\\loky\\process_executor.py:752: UserWarning: A worker stopped while some jobs were given to the executor. This can be caused by a too short worker timeout or by a memory leak.\n",
      "  warnings.warn(\n"
     ]
    },
    {
     "name": "stdout",
     "output_type": "stream",
     "text": [
      "@Info - Note: Sorting data.\n",
      "@Info: Convergence achieved in 19 iterations - new loss: 0.44924706051366253 - delta: 0.00026380652591895227 < 0.0005\n"
     ]
    },
    {
     "name": "stderr",
     "output_type": "stream",
     "text": [
      "C:\\Users\\cosim\\PycharmProjects\\DDFM\\venv\\lib\\site-packages\\joblib\\externals\\loky\\process_executor.py:752: UserWarning: A worker stopped while some jobs were given to the executor. This can be caused by a too short worker timeout or by a memory leak.\n",
      "  warnings.warn(\n"
     ]
    },
    {
     "name": "stdout",
     "output_type": "stream",
     "text": [
      "@Info - Note: Sorting data.\n",
      "@Info: Convergence achieved in 5 iterations - new loss: 0.5379019847397385 - delta: 0.0004662865308320254 < 0.0005\n"
     ]
    },
    {
     "name": "stderr",
     "output_type": "stream",
     "text": [
      " 53%|███████████████████████████████████████████████████████████████████████▋                                                               | 120/226 [16:52:22<1:09:45, 39.49s/it]C:\\Users\\cosim\\PycharmProjects\\DDFM\\venv\\lib\\site-packages\\joblib\\externals\\loky\\process_executor.py:752: UserWarning: A worker stopped while some jobs were given to the executor. This can be caused by a too short worker timeout or by a memory leak.\n",
      "  warnings.warn(\n"
     ]
    },
    {
     "name": "stdout",
     "output_type": "stream",
     "text": [
      "@Info - Note: Sorting data.\n",
      "@Info: Convergence achieved in 22 iterations - new loss: 0.3898712436986139 - delta: 0.0002893123896714179 < 0.0005\n"
     ]
    },
    {
     "name": "stderr",
     "output_type": "stream",
     "text": [
      "C:\\Users\\cosim\\PycharmProjects\\DDFM\\venv\\lib\\site-packages\\joblib\\externals\\loky\\process_executor.py:752: UserWarning: A worker stopped while some jobs were given to the executor. This can be caused by a too short worker timeout or by a memory leak.\n",
      "  warnings.warn(\n"
     ]
    },
    {
     "name": "stdout",
     "output_type": "stream",
     "text": [
      "@Info - Note: Sorting data.\n",
      "@Info: Convergence achieved in 4 iterations - new loss: 0.6663399297773052 - delta: 0.00039147445216143807 < 0.0005\n"
     ]
    },
    {
     "name": "stderr",
     "output_type": "stream",
     "text": [
      " 58%|██████████████████████████████████████████████████████████████████████████████▊                                                        | 132/226 [18:37:31<1:02:05, 39.63s/it]C:\\Users\\cosim\\PycharmProjects\\DDFM\\venv\\lib\\site-packages\\joblib\\externals\\loky\\process_executor.py:752: UserWarning: A worker stopped while some jobs were given to the executor. This can be caused by a too short worker timeout or by a memory leak.\n",
      "  warnings.warn(\n"
     ]
    },
    {
     "name": "stdout",
     "output_type": "stream",
     "text": [
      "@Info - Note: Sorting data.\n",
      "@Info: Convergence achieved in 20 iterations - new loss: 0.5974968202765628 - delta: 0.00021062819725334785 < 0.0005\n",
      "@Info - Note: Sorting data.\n",
      "@Info: Convergence achieved in 4 iterations - new loss: 0.5069114400258589 - delta: 0.0004607210786532817 < 0.0005\n"
     ]
    },
    {
     "name": "stderr",
     "output_type": "stream",
     "text": [
      " 64%|██████████████████████████████████████████████████████████████████████████████████████                                                 | 144/226 [20:42:32<1:03:57, 46.80s/it]C:\\Users\\cosim\\PycharmProjects\\DDFM\\venv\\lib\\site-packages\\joblib\\externals\\loky\\process_executor.py:752: UserWarning: A worker stopped while some jobs were given to the executor. This can be caused by a too short worker timeout or by a memory leak.\n",
      "  warnings.warn(\n"
     ]
    },
    {
     "name": "stdout",
     "output_type": "stream",
     "text": [
      "@Info - Note: Sorting data.\n",
      "@Info: Convergence achieved in 21 iterations - new loss: 0.557198719388565 - delta: 0.00019699812549646 < 0.0005\n"
     ]
    },
    {
     "name": "stderr",
     "output_type": "stream",
     "text": [
      "C:\\Users\\cosim\\PycharmProjects\\DDFM\\venv\\lib\\site-packages\\joblib\\externals\\loky\\process_executor.py:752: UserWarning: A worker stopped while some jobs were given to the executor. This can be caused by a too short worker timeout or by a memory leak.\n",
      "  warnings.warn(\n"
     ]
    },
    {
     "name": "stdout",
     "output_type": "stream",
     "text": [
      "@Info - Note: Sorting data.\n",
      "@Info: Convergence achieved in 3 iterations - new loss: 0.5062426391315129 - delta: 0.00046651885603386 < 0.0005\n"
     ]
    },
    {
     "name": "stderr",
     "output_type": "stream",
     "text": [
      " 69%|██████████████████████████████████████████████████████████████████████████████████████████████▌                                          | 156/226 [22:26:27<45:59, 39.42s/it]C:\\Users\\cosim\\PycharmProjects\\DDFM\\venv\\lib\\site-packages\\joblib\\externals\\loky\\process_executor.py:752: UserWarning: A worker stopped while some jobs were given to the executor. This can be caused by a too short worker timeout or by a memory leak.\n",
      "  warnings.warn(\n"
     ]
    },
    {
     "name": "stdout",
     "output_type": "stream",
     "text": [
      "@Info - Note: Sorting data.\n",
      "@Info: Convergence achieved in 23 iterations - new loss: 0.3906877542274399 - delta: 0.0004164963382982029 < 0.0005\n"
     ]
    },
    {
     "name": "stderr",
     "output_type": "stream",
     "text": [
      "C:\\Users\\cosim\\PycharmProjects\\DDFM\\venv\\lib\\site-packages\\joblib\\externals\\loky\\process_executor.py:752: UserWarning: A worker stopped while some jobs were given to the executor. This can be caused by a too short worker timeout or by a memory leak.\n",
      "  warnings.warn(\n"
     ]
    },
    {
     "name": "stdout",
     "output_type": "stream",
     "text": [
      "@Info - Note: Sorting data.\n",
      "@Info: Convergence achieved in 8 iterations - new loss: 0.506310734517408 - delta: 8.634220904887521e-05 < 0.0005\n"
     ]
    },
    {
     "name": "stderr",
     "output_type": "stream",
     "text": [
      " 74%|█████████████████████████████████████████████████████████████████████████████████████████████████████▊                                   | 168/226 [24:13:08<38:57, 40.30s/it]C:\\Users\\cosim\\PycharmProjects\\DDFM\\venv\\lib\\site-packages\\joblib\\externals\\loky\\process_executor.py:752: UserWarning: A worker stopped while some jobs were given to the executor. This can be caused by a too short worker timeout or by a memory leak.\n",
      "  warnings.warn(\n"
     ]
    },
    {
     "name": "stdout",
     "output_type": "stream",
     "text": [
      "@Info - Note: Sorting data.\n",
      "@Info: Convergence achieved in 21 iterations - new loss: 0.41618437255656776 - delta: 8.516830378851853e-05 < 0.0005\n"
     ]
    },
    {
     "name": "stderr",
     "output_type": "stream",
     "text": [
      "C:\\Users\\cosim\\PycharmProjects\\DDFM\\venv\\lib\\site-packages\\joblib\\externals\\loky\\process_executor.py:752: UserWarning: A worker stopped while some jobs were given to the executor. This can be caused by a too short worker timeout or by a memory leak.\n",
      "  warnings.warn(\n"
     ]
    },
    {
     "name": "stdout",
     "output_type": "stream",
     "text": [
      "@Info - Note: Sorting data.\n",
      "@Info: Convergence achieved in 6 iterations - new loss: 0.6644071832833722 - delta: 0.00013310798174719372 < 0.0005\n"
     ]
    },
    {
     "name": "stderr",
     "output_type": "stream",
     "text": [
      " 80%|█████████████████████████████████████████████████████████████████████████████████████████████████████████████                            | 180/226 [26:02:45<31:38, 41.27s/it]C:\\Users\\cosim\\PycharmProjects\\DDFM\\venv\\lib\\site-packages\\joblib\\externals\\loky\\process_executor.py:752: UserWarning: A worker stopped while some jobs were given to the executor. This can be caused by a too short worker timeout or by a memory leak.\n",
      "  warnings.warn(\n"
     ]
    },
    {
     "name": "stdout",
     "output_type": "stream",
     "text": [
      "@Info - Note: Sorting data.\n",
      "@Info: Convergence achieved in 12 iterations - new loss: 0.5651773767846974 - delta: 0.00011774041831954392 < 0.0005\n"
     ]
    },
    {
     "name": "stderr",
     "output_type": "stream",
     "text": [
      "C:\\Users\\cosim\\PycharmProjects\\DDFM\\venv\\lib\\site-packages\\joblib\\externals\\loky\\process_executor.py:752: UserWarning: A worker stopped while some jobs were given to the executor. This can be caused by a too short worker timeout or by a memory leak.\n",
      "  warnings.warn(\n"
     ]
    },
    {
     "name": "stdout",
     "output_type": "stream",
     "text": [
      "@Info - Note: Sorting data.\n",
      "@Info: Convergence achieved in 10 iterations - new loss: 0.511124053407039 - delta: 0.0003122819525233991 < 0.0005\n"
     ]
    },
    {
     "name": "stderr",
     "output_type": "stream",
     "text": [
      " 85%|████████████████████████████████████████████████████████████████████████████████████████████████████████████████████▍                    | 192/226 [27:46:37<22:18, 39.36s/it]C:\\Users\\cosim\\PycharmProjects\\DDFM\\venv\\lib\\site-packages\\joblib\\externals\\loky\\process_executor.py:752: UserWarning: A worker stopped while some jobs were given to the executor. This can be caused by a too short worker timeout or by a memory leak.\n",
      "  warnings.warn(\n"
     ]
    },
    {
     "name": "stdout",
     "output_type": "stream",
     "text": [
      "@Info - Note: Sorting data.\n",
      "@Info: Convergence achieved in 18 iterations - new loss: 0.39688339064659245 - delta: 0.00021721784846182195 < 0.0005\n"
     ]
    },
    {
     "name": "stderr",
     "output_type": "stream",
     "text": [
      "C:\\Users\\cosim\\PycharmProjects\\DDFM\\venv\\lib\\site-packages\\joblib\\externals\\loky\\process_executor.py:752: UserWarning: A worker stopped while some jobs were given to the executor. This can be caused by a too short worker timeout or by a memory leak.\n",
      "  warnings.warn(\n"
     ]
    },
    {
     "name": "stdout",
     "output_type": "stream",
     "text": [
      "@Info - Note: Sorting data.\n",
      "@Info: Convergence achieved in 16 iterations - new loss: 0.4374455090072163 - delta: 0.0002508898650933927 < 0.0005\n"
     ]
    },
    {
     "name": "stderr",
     "output_type": "stream",
     "text": [
      " 90%|███████████████████████████████████████████████████████████████████████████████████████████████████████████████████████████▋             | 204/226 [29:32:38<14:42, 40.09s/it]C:\\Users\\cosim\\PycharmProjects\\DDFM\\venv\\lib\\site-packages\\joblib\\externals\\loky\\process_executor.py:752: UserWarning: A worker stopped while some jobs were given to the executor. This can be caused by a too short worker timeout or by a memory leak.\n",
      "  warnings.warn(\n"
     ]
    },
    {
     "name": "stdout",
     "output_type": "stream",
     "text": [
      "@Info - Note: Sorting data.\n",
      "@Info: Convergence achieved in 21 iterations - new loss: 0.3923516498568554 - delta: 3.6942453679419735e-05 < 0.0005\n"
     ]
    },
    {
     "name": "stderr",
     "output_type": "stream",
     "text": [
      "C:\\Users\\cosim\\PycharmProjects\\DDFM\\venv\\lib\\site-packages\\joblib\\externals\\loky\\process_executor.py:752: UserWarning: A worker stopped while some jobs were given to the executor. This can be caused by a too short worker timeout or by a memory leak.\n",
      "  warnings.warn(\n"
     ]
    },
    {
     "name": "stdout",
     "output_type": "stream",
     "text": [
      "@Info - Note: Sorting data.\n",
      "@Info: Convergence achieved in 17 iterations - new loss: 0.5374905617799992 - delta: 0.00023751932857674678 < 0.0005\n"
     ]
    },
    {
     "name": "stderr",
     "output_type": "stream",
     "text": [
      " 96%|██████████████████████████████████████████████████████████████████████████████████████████████████████████████████████████████████▉      | 216/226 [31:23:25<06:58, 41.87s/it]C:\\Users\\cosim\\PycharmProjects\\DDFM\\venv\\lib\\site-packages\\joblib\\externals\\loky\\process_executor.py:752: UserWarning: A worker stopped while some jobs were given to the executor. This can be caused by a too short worker timeout or by a memory leak.\n",
      "  warnings.warn(\n"
     ]
    },
    {
     "name": "stdout",
     "output_type": "stream",
     "text": [
      "@Info - Note: Sorting data.\n",
      "@Info: Convergence achieved in 7 iterations - new loss: 0.3650927067176237 - delta: 0.00014468210147445214 < 0.0005\n"
     ]
    },
    {
     "name": "stderr",
     "output_type": "stream",
     "text": [
      "C:\\Users\\cosim\\PycharmProjects\\DDFM\\venv\\lib\\site-packages\\joblib\\externals\\loky\\process_executor.py:752: UserWarning: A worker stopped while some jobs were given to the executor. This can be caused by a too short worker timeout or by a memory leak.\n",
      "  warnings.warn(\n"
     ]
    },
    {
     "name": "stdout",
     "output_type": "stream",
     "text": [
      "@Info - Note: Sorting data.\n",
      "@Info: Convergence achieved in 17 iterations - new loss: 0.49162661051190193 - delta: 0.00043669931698105385 < 0.0005\n"
     ]
    },
    {
     "name": "stderr",
     "output_type": "stream",
     "text": [
      "100%|████████████████████████████████████████████████████████████████████████████████████████████████████████████████████████████████████████| 226/226 [33:10:24<00:00, 528.43s/it]\n"
     ]
    }
   ],
   "source": [
    "# OOS\n",
    "oos_dates = list(data_m.index[data_m.index >= start_oos])\n",
    "# yearly re-estimation\n",
    "estimate_every = 12\n",
    "# t+1, t+6, t+12, t+24\n",
    "steps_ahead = [1, 6, 12, 24]\n",
    "# init predictions and the targets containers\n",
    "dict_targets, dict_preds_symmetric, dict_preds_asymmetric = {}, {}, {}\n",
    "for cc, vv in enumerate(steps_ahead):\n",
    "    dict_preds_asymmetric[vv] = np.nan * np.ones((len(oos_dates), data_m.shape[1]))\n",
    "    dict_preds_symmetric[vv] = np.nan * np.ones((len(oos_dates), data_m.shape[1]))\n",
    "    dict_targets[vv] = np.nan * np.ones((len(oos_dates), data_m.shape[1]))\n",
    "# oos loop\n",
    "for c,v in enumerate(tqdm(oos_dates)):\n",
    "    \n",
    "    # up until end excluding v\n",
    "    data_insample_now = data_m[data_m.index < v]\n",
    "    \n",
    "    # check if we need to fit the model\n",
    "    if (c % estimate_every) == 0:\n",
    "        hyper_tuning = Validate(data_insample_now, \n",
    "                                verbose=0,\n",
    "                                n_jobs=12, \n",
    "                                test_size=18, \n",
    "                                n_steps_ahead=12, \n",
    "                                cv_type=\"tssplit\", \n",
    "                                n_splits=min(2+c, 6), # max 6 splits to reduce computational complexity\n",
    "                                selected_vars=idx_selected,\n",
    "                                )\n",
    "        ddfm_simple_inst = Ddfm_simple(n_steps_ahead=hyper_tuning.n_steps_ahead)\n",
    "        model_ddfm_asymmetric = hyper_tuning.grid_search_cross_validate(ddfm_simple_inst, hypers_asymmetric_ddfm)\n",
    "        model_ddfm_symmetric = hyper_tuning.grid_search_cross_validate(ddfm_simple_inst, hypers_symmetric_ddfm)\n",
    "\n",
    "    # make predictions\n",
    "    preds_asymmetric_now = model_ddfm_asymmetric.best_estimator_.predict(data_insample_now, n_steps_ahead=max(steps_ahead))\n",
    "    preds_symmetric_now = model_ddfm_symmetric.best_estimator_.predict(data_insample_now, n_steps_ahead=max(steps_ahead))\n",
    "\n",
    "    # store predictions and the targets\n",
    "    for _, vv in enumerate(steps_ahead):\n",
    "        dict_preds_asymmetric[vv][c, :] = preds_asymmetric_now[vv-1, -1, :]\n",
    "        dict_preds_symmetric[vv][c, :] = preds_symmetric_now[vv-1, -1, :]\n",
    "        dict_targets[vv][c, :] = data_m.shift(-(vv-1)).loc[v] # one step ahead is v without shift, two is v with one shift, ..."
   ]
  },
  {
   "cell_type": "code",
   "execution_count": 8,
   "id": "e20012f9-3c44-41e8-b96f-d3aff96e98b0",
   "metadata": {},
   "outputs": [],
   "source": [
    "# compute rmsfe\n",
    "def rmsfe(y, y_hat):\n",
    "    return np.sqrt(np.nanmean((y - y_hat) ** 2))\n",
    "var_names = list(data_m.columns)\n",
    "dict_rmsfe = {}\n",
    "for c, v in enumerate(steps_ahead):\n",
    "    dict_rmsfe[f\"Forecasting Horizon {v}\"] = {}\n",
    "    #df_target = untransform_variables(data_tr=pd.DataFrame(dict_targets[v], columns=var_names, index=oos_dates), code=transform_code_m, fcst_h=v)\n",
    "    #df_preds_sym = untransform_variables(data_tr=pd.DataFrame(dict_preds_symmetric[v], columns=var_names, index=oos_dates), code=transform_code_m, fcst_h=v)\n",
    "    #df_preds_asym = untransform_variables(data_tr=pd.DataFrame(dict_preds_asymmetric[v], columns=var_names, index=oos_dates), code=transform_code_m, fcst_h=v)\n",
    "    df_target = pd.DataFrame(dict_targets[v], columns=var_names, index=oos_dates)\n",
    "    df_preds_sym = pd.DataFrame(dict_preds_symmetric[v], columns=var_names, index=oos_dates)\n",
    "    df_preds_asym = pd.DataFrame(dict_preds_asymmetric[v], columns=var_names, index=oos_dates)\n",
    "    for c_var, var in enumerate(var_names):\n",
    "        dict_rmsfe[f\"Forecasting Horizon {v}\"][var] = {\"Symmetric\": rmsfe(df_target[var_names[c_var]], df_preds_sym[var_names[c_var]]),\n",
    "                                                       \"Asymmetric\": rmsfe(df_target[var_names[c_var]], df_preds_asym[var_names[c_var]])}"
   ]
  },
  {
   "cell_type": "code",
   "execution_count": 9,
   "id": "fe747875-a5bc-43fe-9b57-fbebc49a2845",
   "metadata": {},
   "outputs": [
    {
     "data": {
      "text/html": [
       "<div>\n",
       "<style scoped>\n",
       "    .dataframe tbody tr th:only-of-type {\n",
       "        vertical-align: middle;\n",
       "    }\n",
       "\n",
       "    .dataframe tbody tr th {\n",
       "        vertical-align: top;\n",
       "    }\n",
       "\n",
       "    .dataframe thead th {\n",
       "        text-align: right;\n",
       "    }\n",
       "</style>\n",
       "<table border=\"1\" class=\"dataframe\">\n",
       "  <thead>\n",
       "    <tr style=\"text-align: right;\">\n",
       "      <th></th>\n",
       "      <th></th>\n",
       "      <th>Symmetric</th>\n",
       "      <th>Asymmetric</th>\n",
       "    </tr>\n",
       "  </thead>\n",
       "  <tbody>\n",
       "    <tr>\n",
       "      <th rowspan=\"5\" valign=\"top\">Forecasting Horizon 1</th>\n",
       "      <th>RPI</th>\n",
       "      <td>0.017962</td>\n",
       "      <td>0.019328</td>\n",
       "    </tr>\n",
       "    <tr>\n",
       "      <th>W875RX1</th>\n",
       "      <td>0.009793</td>\n",
       "      <td>0.009366</td>\n",
       "    </tr>\n",
       "    <tr>\n",
       "      <th>DPCERA3M086SBEA</th>\n",
       "      <td>0.013495</td>\n",
       "      <td>0.013254</td>\n",
       "    </tr>\n",
       "    <tr>\n",
       "      <th>CMRMTSPLx</th>\n",
       "      <td>0.017515</td>\n",
       "      <td>0.017297</td>\n",
       "    </tr>\n",
       "    <tr>\n",
       "      <th>RETAILx</th>\n",
       "      <td>0.024285</td>\n",
       "      <td>0.025107</td>\n",
       "    </tr>\n",
       "    <tr>\n",
       "      <th>...</th>\n",
       "      <th>...</th>\n",
       "      <td>...</td>\n",
       "      <td>...</td>\n",
       "    </tr>\n",
       "    <tr>\n",
       "      <th rowspan=\"5\" valign=\"top\">Forecasting Horizon 24</th>\n",
       "      <th>UMCSENTx</th>\n",
       "      <td>4.859635</td>\n",
       "      <td>4.636464</td>\n",
       "    </tr>\n",
       "    <tr>\n",
       "      <th>DTCOLNVHFNM</th>\n",
       "      <td>0.024440</td>\n",
       "      <td>0.026114</td>\n",
       "    </tr>\n",
       "    <tr>\n",
       "      <th>DTCTHFNM</th>\n",
       "      <td>0.029303</td>\n",
       "      <td>0.030531</td>\n",
       "    </tr>\n",
       "    <tr>\n",
       "      <th>INVEST</th>\n",
       "      <td>0.010495</td>\n",
       "      <td>0.010294</td>\n",
       "    </tr>\n",
       "    <tr>\n",
       "      <th>VIXCLSx</th>\n",
       "      <td>10.242495</td>\n",
       "      <td>10.272471</td>\n",
       "    </tr>\n",
       "  </tbody>\n",
       "</table>\n",
       "<p>508 rows × 2 columns</p>\n",
       "</div>"
      ],
      "text/plain": [
       "                                        Symmetric  Asymmetric\n",
       "Forecasting Horizon 1  RPI               0.017962    0.019328\n",
       "                       W875RX1           0.009793    0.009366\n",
       "                       DPCERA3M086SBEA   0.013495    0.013254\n",
       "                       CMRMTSPLx         0.017515    0.017297\n",
       "                       RETAILx           0.024285    0.025107\n",
       "...                                           ...         ...\n",
       "Forecasting Horizon 24 UMCSENTx          4.859635    4.636464\n",
       "                       DTCOLNVHFNM       0.024440    0.026114\n",
       "                       DTCTHFNM          0.029303    0.030531\n",
       "                       INVEST            0.010495    0.010294\n",
       "                       VIXCLSx          10.242495   10.272471\n",
       "\n",
       "[508 rows x 2 columns]"
      ]
     },
     "execution_count": 9,
     "metadata": {},
     "output_type": "execute_result"
    }
   ],
   "source": [
    "df = pd.DataFrame.from_dict({(i,j): dict_rmsfe[i][j] \n",
    "                            for i in dict_rmsfe.keys() \n",
    "                            for j in dict_rmsfe[i].keys()},\n",
    "                            orient='index')\n",
    "df.index = pd.MultiIndex.from_tuples(df.index)\n",
    "df"
   ]
  },
  {
   "cell_type": "code",
   "execution_count": 10,
   "id": "3e6ec8bb-eb3d-4f05-bf95-478e688fddec",
   "metadata": {},
   "outputs": [],
   "source": [
    "df.to_csv(os.path.join(parentdir, \"examples\", \"empirical\", \"results\", 'ddfms_rmsfe.csv'))"
   ]
  },
  {
   "cell_type": "code",
   "execution_count": 11,
   "id": "05f7faff-b321-47a7-aac0-302b06b0cb85",
   "metadata": {},
   "outputs": [],
   "source": [
    "dict_all_results = {\"RMSFE\": dict_rmsfe, \n",
    "                    \"Preds Asymmetric\": dict_preds_asymmetric, \n",
    "                    \"Preds Symmetric\": dict_preds_symmetric,\n",
    "                    \"Targets\": dict_targets\n",
    "                   }"
   ]
  },
  {
   "cell_type": "code",
   "execution_count": 12,
   "id": "c2829ff7-0534-4405-a1df-3504bd73526e",
   "metadata": {},
   "outputs": [],
   "source": [
    "# pickle everything\n",
    "with open(os.path.join(parentdir, \"examples\", \"empirical\", \"results\", 'ddfms.pickle'), 'wb') as handle:\n",
    "    pickle.dump(dict_all_results, handle, protocol=pickle.HIGHEST_PROTOCOL)"
   ]
  },
  {
   "cell_type": "code",
   "execution_count": 13,
   "id": "6f8c62b6-1b42-464a-b1dd-60d65bdb3c6c",
   "metadata": {},
   "outputs": [],
   "source": [
    "# with open(os.path.join(parentdir, \"examples\", \"empirical\", \"results\", 'ddfms.pickle'), 'rb') as handle:\n",
    "#     dict_all_results = pickle.load(handle)\n",
    "# dict_preds_asymmetric = dict_all_results[\"Preds Asymmetric\"]\n",
    "# dict_preds_symmetric = dict_all_results[\"Preds Symmetric\"]\n",
    "# dict_targets = dict_all_results[\"Targets\"]\n",
    "# dict_rmsfe = dict_all_results[\"RMSFE\"]"
   ]
  },
  {
   "cell_type": "code",
   "execution_count": null,
   "id": "40ede918-7bae-4086-aca2-75cbc949b155",
   "metadata": {},
   "outputs": [],
   "source": []
  }
 ],
 "metadata": {
  "kernelspec": {
   "display_name": "Python 3 (ipykernel)",
   "language": "python",
   "name": "python3"
  },
  "language_info": {
   "codemirror_mode": {
    "name": "ipython",
    "version": 3
   },
   "file_extension": ".py",
   "mimetype": "text/x-python",
   "name": "python",
   "nbconvert_exporter": "python",
   "pygments_lexer": "ipython3",
   "version": "3.8.10"
  }
 },
 "nbformat": 4,
 "nbformat_minor": 5
}
