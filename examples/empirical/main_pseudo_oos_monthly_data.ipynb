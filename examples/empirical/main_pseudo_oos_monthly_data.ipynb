{
 "cells": [
  {
   "cell_type": "code",
   "execution_count": null,
   "id": "3beeb597-3e2b-4045-8329-04180ac5d529",
   "metadata": {},
   "outputs": [],
   "source": [
    "import os,sys,inspect\n",
    "# currentdir = os.path.dirname(os.path.abspath(inspect.getfile(inspect.currentframe())))\n",
    "# parentdir = os.path.dirname(currentdir)\n",
    "# parentdir = os.path.dirname(parentdir)\n",
    "parentdir = \"C:\\\\Users\\\\cosim\\\\PycharmProjects\\\\DDFM\"\n",
    "sys.path.insert(0,parentdir)\n",
    "import pickle\n",
    "import pandas as pd\n",
    "import numpy as np\n",
    "from pandas.tseries.offsets import MonthEnd\n",
    "from implementation.model_validation import Validate, Ddfm_simple\n",
    "from implementation.bai_ng_utils import transform_variables, untransform_variables\n",
    "from tqdm import tqdm"
   ]
  },
  {
   "cell_type": "code",
   "execution_count": null,
   "id": "0f6e1139-44ea-466a-b8b9-57b3857ba92e",
   "metadata": {},
   "outputs": [],
   "source": [
    "start_date = pd.Timestamp(\"1990-01-01\")\n",
    "start_oos = pd.Timestamp(\"2005-01-01\")"
   ]
  },
  {
   "cell_type": "code",
   "execution_count": null,
   "id": "ba3abe9b-3b39-48b2-b809-ec225a7ab0d6",
   "metadata": {},
   "outputs": [],
   "source": [
    "# data\n",
    "data_m_all = pd.read_csv(os.path.join(parentdir, \"examples\", \"empirical\",\"data\",\"mdfred_snapshot_monthly.csv\"))\n",
    "transform_code_m = data_m_all.iloc[0,1:].astype(int)\n",
    "data_m = data_m_all.iloc[1:,:].set_index(\"sasdate\")\n",
    "data_m.index = pd.to_datetime(data_m.index)\n",
    "# convert to month end\n",
    "data_m.index = data_m.index + MonthEnd()\n",
    "# transform data\n",
    "data_m = transform_variables(data_m, transform_code_m)\n",
    "data_m = data_m[data_m.index>=start_date]"
   ]
  },
  {
   "cell_type": "code",
   "execution_count": null,
   "id": "3a2122a184fe5447",
   "metadata": {
    "collapsed": false,
    "jupyter": {
     "outputs_hidden": false
    }
   },
   "outputs": [],
   "source": [
    "# ddfms configs\n",
    "hypers_asymmetric_ddfm = {'lags_input': [0, 3],\n",
    "                          'structure_encoder': [[6*4, 6*2, 6],\n",
    "                                                [5*4, 5*2, 5],\n",
    "                                                [4*4, 4*2, 4],\n",
    "                                                [3*4, 3*2, 3]\n",
    "                                               ],\n",
    "                          'link': [\"tanh\"],\n",
    "                          'symmetric_decoder': [False],\n",
    "                          }\n",
    "hypers_symmetric_ddfm = hypers_asymmetric_ddfm.copy()\n",
    "hypers_symmetric_ddfm[\"symmetric_decoder\"] = [True]"
   ]
  },
  {
   "cell_type": "code",
   "execution_count": null,
   "id": "80cd7476-9141-4033-95ea-98368e105140",
   "metadata": {},
   "outputs": [],
   "source": [
    "# OOS\n",
    "oos_dates = list(data_m.index[data_m.index >= start_oos])\n",
    "# yearly re-estimation\n",
    "estimate_every = 12\n",
    "# t+1, t+6, t+12, t+24\n",
    "steps_ahead = [1, 6, 12, 24]\n",
    "# init predictions and the targets containers\n",
    "dict_targets, dict_preds_symmetric, dict_preds_asymmetric = {}, {}, {}\n",
    "for cc, vv in enumerate(steps_ahead):\n",
    "    dict_preds_asymmetric[vv] = np.nan * np.ones((len(oos_dates), data_m.shape[1]))\n",
    "    dict_preds_symmetric[vv] = np.nan * np.ones((len(oos_dates), data_m.shape[1]))\n",
    "    dict_targets[vv] = np.nan * np.ones((len(oos_dates), data_m.shape[1]))\n",
    "# oos loop\n",
    "for c,v in enumerate(tqdm(oos_dates)):\n",
    "\n",
    "    # up until end excluding v\n",
    "    data_insample_now = data_m[data_m.index < v]\n",
    "    \n",
    "    # check if we need to fit the model\n",
    "    if (c % estimate_every) == 0:\n",
    "        hyper_tuning = Validate(data_insample_now, \n",
    "                                verbose=0,\n",
    "                                n_jobs=14, \n",
    "                                test_size=18, \n",
    "                                n_steps_ahead=12, \n",
    "                                cv_type=\"tssplit\", \n",
    "                                n_splits=min(2+c, 10)) # max 10 splits to reduce computational complexity\n",
    "        ddfm_simple_inst = Ddfm_simple(n_steps_ahead=hyper_tuning.n_steps_ahead)\n",
    "        model_ddfm_asymmetric = hyper_tuning.grid_search_cross_validate(ddfm_simple_inst, hypers_asymmetric_ddfm)\n",
    "        model_ddfm_symmetric = hyper_tuning.grid_search_cross_validate(ddfm_simple_inst, hypers_symmetric_ddfm)\n",
    "\n",
    "    # make predictions\n",
    "    preds_asymmetric_now = model_ddfm_asymmetric.best_estimator_.predict(data_insample_now, n_steps_ahead=max(steps_ahead))\n",
    "    preds_symmetric_now = model_ddfm_symmetric.best_estimator_.predict(data_insample_now, n_steps_ahead=max(steps_ahead))\n",
    "\n",
    "    # store predictions and the targets\n",
    "    for _, vv in enumerate(steps_ahead):\n",
    "        dict_preds_asymmetric[vv][c, :] = preds_asymmetric_now[vv-1, -1, :]\n",
    "        dict_preds_symmetric[vv][c, :] = preds_symmetric_now[vv-1, -1, :]\n",
    "        dict_targets[vv][c, :] = data_m.shift(-(vv-1)).loc[v] # one step ahead is v without shift, two is v with one shift, ..."
   ]
  },
  {
   "cell_type": "code",
   "execution_count": null,
   "id": "e20012f9-3c44-41e8-b96f-d3aff96e98b0",
   "metadata": {},
   "outputs": [],
   "source": [
    "# compute rmsfe\n",
    "def rmsfe(y, y_hat):\n",
    "    return np.sqrt(np.nanmean((y - y_hat) ** 2))\n",
    "var_names = list(data_m.columns)\n",
    "dict_rmsfe = {}\n",
    "for c, v in enumerate(steps_ahead):\n",
    "    dict_rmsfe[f\"Forecasting Horizon {v}\"] = {}\n",
    "    df_target = untransform_variables(data_tr=pd.DataFrame(dict_targets[v], columns=var_names, index=oos_dates), code=transform_code_m, fcst_h=v)\n",
    "    df_preds_sym = untransform_variables(data_tr=pd.DataFrame(dict_preds_symmetric[v], columns=var_names, index=oos_dates), code=transform_code_m, fcst_h=v)\n",
    "    df_preds_asym = untransform_variables(data_tr=pd.DataFrame(dict_preds_asymmetric[v], columns=var_names, index=oos_dates), code=transform_code_m, fcst_h=v)\n",
    "    for c_var, var in enumerate(var_names):\n",
    "        dict_rmsfe[f\"Forecasting Horizon {v}\"][var] = {\"Symmetric\": rmsfe(df_target[var_names[c_var]], df_preds_sym[var_names[c_var]]),\n",
    "                                                       \"Asymmetric\": rmsfe(df_target[var_names[c_var]], df_preds_asym[var_names[c_var]])}"
   ]
  },
  {
   "cell_type": "code",
   "execution_count": null,
   "id": "fe747875-a5bc-43fe-9b57-fbebc49a2845",
   "metadata": {},
   "outputs": [],
   "source": [
    "df = pd.DataFrame.from_dict({(i,j): dict_rmsfe[i][j] \n",
    "                            for i in dict_rmsfe.keys() \n",
    "                            for j in dict_rmsfe[i].keys()},\n",
    "                            orient='index')\n",
    "df.index = pd.MultiIndex.from_tuples(df.index)\n",
    "df"
   ]
  },
  {
   "cell_type": "code",
   "execution_count": null,
   "id": "3e6ec8bb-eb3d-4f05-bf95-478e688fddec",
   "metadata": {},
   "outputs": [],
   "source": [
    "df.to_csv(os.path.join(parentdir, \"examples\", \"empirical\", \"results\", 'ddfms_rmsfe.csv'))"
   ]
  },
  {
   "cell_type": "code",
   "execution_count": null,
   "id": "05f7faff-b321-47a7-aac0-302b06b0cb85",
   "metadata": {},
   "outputs": [],
   "source": [
    "dict_all_results = {\"RMSFE\": dict_rmsfe, \n",
    "                    \"Preds Asymmetric\": dict_preds_asymmetric, \n",
    "                    \"Preds Symmetric\": dict_preds_symmetric,\n",
    "                    \"Targets\": dict_targets\n",
    "                   }"
   ]
  },
  {
   "cell_type": "code",
   "execution_count": null,
   "id": "c2829ff7-0534-4405-a1df-3504bd73526e",
   "metadata": {},
   "outputs": [],
   "source": [
    "# pickle everything\n",
    "with open(os.path.join(parentdir, \"examples\", \"empirical\", \"results\", 'ddfms.pickle'), 'wb') as handle:\n",
    "    pickle.dump(dict_all_results, handle, protocol=pickle.HIGHEST_PROTOCOL)"
   ]
  },
  {
   "cell_type": "code",
   "execution_count": null,
   "id": "6f8c62b6-1b42-464a-b1dd-60d65bdb3c6c",
   "metadata": {},
   "outputs": [],
   "source": [
    "# with open(os.path.join(parentdir, \"examples\", \"empirical\", \"results\", 'ddfms.pickle'), 'rb') as handle:\n",
    "#     dict_all_results = pickle.load(handle)\n",
    "# dict_preds_asymmetric = dict_all_results[\"Preds Asymmetric\"]\n",
    "# dict_preds_symmetric = dict_all_results[\"Preds Symmetric\"]\n",
    "# dict_targets = dict_all_results[\"Targets\"]\n",
    "# dict_rmsfe = dict_all_results[\"RMSFE\"]"
   ]
  },
  {
   "cell_type": "code",
   "execution_count": null,
   "id": "40ede918-7bae-4086-aca2-75cbc949b155",
   "metadata": {},
   "outputs": [],
   "source": []
  }
 ],
 "metadata": {
  "kernelspec": {
   "display_name": "Python 3 (ipykernel)",
   "language": "python",
   "name": "python3"
  },
  "language_info": {
   "codemirror_mode": {
    "name": "ipython",
    "version": 3
   },
   "file_extension": ".py",
   "mimetype": "text/x-python",
   "name": "python",
   "nbconvert_exporter": "python",
   "pygments_lexer": "ipython3",
   "version": "3.8.10"
  }
 },
 "nbformat": 4,
 "nbformat_minor": 5
}
