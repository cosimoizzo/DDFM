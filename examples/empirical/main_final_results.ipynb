{
 "cells": [
  {
   "cell_type": "code",
   "execution_count": null,
   "metadata": {},
   "outputs": [],
   "source": [
    "import pandas as pd\n",
    "import numpy as np\n",
    "import matplotlib.pyplot as plt"
   ]
  },
  {
   "cell_type": "code",
   "execution_count": null,
   "metadata": {},
   "outputs": [],
   "source": [
    "import os,sys,inspect\n",
    "# currentdir = os.path.dirname(os.path.abspath(inspect.getfile(inspect.currentframe())))\n",
    "# parentdir = os.path.dirname(currentdir)\n",
    "# parentdir = os.path.dirname(parentdir)\n",
    "parentdir = \"C:\\\\Users\\\\cosim\\\\PycharmProjects\\\\DDFM\"\n",
    "#parentdir = \"/Users/paoloandreini/Desktop/github_repo/DDFM_correction_paper/DDFM\"\n",
    "sys.path.insert(0,parentdir)\n",
    "import warnings\n",
    "warnings.filterwarnings(\"ignore\")"
   ]
  },
  {
   "cell_type": "code",
   "execution_count": null,
   "metadata": {},
   "outputs": [],
   "source": [
    "# Load results\n",
    "# rmsfe_ar = pd.read_csv(f\"{parentdir}/examples/empirical/results/rmsfe_ar1_all.csv\", index_col=[0,1,2])\n",
    "# rmsfe_ar.index.names=[\"variable\", \"step-ahead\", \"model\"]\n",
    "# rmsfe_ar.columns =[\"RMSFE\"]\n",
    "# rmsfe_ar = rmsfe_ar.droplevel(\"model\")\n",
    "rmsfe_models = pd.read_csv(f\"{parentdir}/examples/empirical/results/rmsfe_publ_lag_0_all_final.csv\", index_col=[0,1,2])\n",
    "rmsfe_models.index.names=[\"variable\", \"step-ahead\", \"model\"]\n",
    "rmsfe_models.columns =[\"RMSFE\"]"
   ]
  },
  {
   "cell_type": "code",
   "execution_count": null,
   "metadata": {},
   "outputs": [],
   "source": [
    "# load reuslts ddfm\n",
    "rmsfe_ddfm = pd.read_csv(f\"{parentdir}/examples/empirical/results/ddfms_rmsfe_final.csv\")#, index_col=[0,1])\n",
    "rmsfe_ddfm[\"Unnamed: 0\"] =rmsfe_ddfm[\"Unnamed: 0\"].str.replace(\"Forecasting Horizon \", \"t\")\n",
    "rmsfe_ddfm.columns = [\"step-ahead\", \"variable\", \"Symmetric\", \"Asymmetric\"]\n",
    "rmsfe_ddfm = rmsfe_ddfm.set_index([\"variable\", \"step-ahead\"])"
   ]
  },
  {
   "cell_type": "code",
   "execution_count": null,
   "metadata": {},
   "outputs": [],
   "source": [
    "rmsfe_all = pd.concat([rmsfe_models.squeeze().unstack(\"model\"), rmsfe_ddfm], axis=1)\n",
    "rmsfe_all = rmsfe_all.stack()\n",
    "rmsfe_all.index.names = [\"variable\", \"step-ahead\", \"model\"]"
   ]
  },
  {
   "cell_type": "code",
   "execution_count": null,
   "metadata": {},
   "outputs": [],
   "source": [
    "rmsfe_ratio = (rmsfe_all.unstack(\"model\").T/rmsfe_all.unstack(\"model\")[\"AR1\"]).T\n",
    "rmsfe_ratio = rmsfe_ratio.drop(\"AR1\", axis=1)"
   ]
  },
  {
   "cell_type": "code",
   "execution_count": null,
   "metadata": {},
   "outputs": [],
   "source": [
    "#rmsfe_ratio= rmsfe_ratio.filter(like=\"ymm\")"
   ]
  },
  {
   "cell_type": "code",
   "execution_count": null,
   "metadata": {},
   "outputs": [],
   "source": [
    "# rmsfe_ratio = (rmsfe_all/rmsfe_ar.squeeze())\n",
    "# rmsfe_ratio.unstack(\"model\") "
   ]
  },
  {
   "cell_type": "code",
   "execution_count": null,
   "metadata": {},
   "outputs": [],
   "source": [
    "rmsfe_ratio_per_models = rmsfe_ratio\n",
    "(rmsfe_ratio_per_models < 1).sum()/len(rmsfe_ratio_per_models)"
   ]
  },
  {
   "cell_type": "code",
   "execution_count": null,
   "metadata": {},
   "outputs": [],
   "source": [
    "rmsfe_ratio_per_models = rmsfe_ratio\n",
    "(rmsfe_ratio_per_models < 1).sum()/len(rmsfe_ratio_per_models)"
   ]
  },
  {
   "cell_type": "code",
   "execution_count": null,
   "metadata": {},
   "outputs": [],
   "source": [
    "((rmsfe_ratio_per_models < 1).sum()/len(rmsfe_ratio_per_models)).sort_index().sort_values().plot(kind=\"bar\", figsize=(15,5))\n",
    "plt.axhline(0.5, linestyle=\"--\", color='red', linewidth=0.7)\n",
    "plt.show()"
   ]
  },
  {
   "cell_type": "code",
   "execution_count": null,
   "metadata": {},
   "outputs": [],
   "source": [
    "rmsfe_ratio_per_models_step = rmsfe_ratio.unstack(\"step-ahead\")\n",
    "((rmsfe_ratio_per_models_step < 1).sum()/len(rmsfe_ratio_per_models_step)).sort_index()"
   ]
  },
  {
   "cell_type": "code",
   "execution_count": null,
   "metadata": {},
   "outputs": [],
   "source": [
    "fig, ax = plt.subplots(1,4, figsize=(25,6))\n",
    "ii = 0\n",
    "for i in ['t1', 't6', 't12', 't24']:#rmsfe_ratio_per_models_step.columns.unique(\"step-ahead\"):\n",
    "    rmsfe_i = rmsfe_ratio_per_models_step.xs(i, axis=1, level=1)\n",
    "    #pd.DataFrame(((rmsfe_i <= 1).sum()/len(rmsfe_i)).sort_values()).plot(kind=\"barh\", ax=ax[ii])\n",
    "    ax[ii].axvline(0.5, linestyle=\"--\", color='red', linewidth=0.7)\n",
    "    ((rmsfe_i <= 1).sum()/len(rmsfe_i)).sort_values().plot(kind=\"barh\", title=i, ax=ax[ii])\n",
    "    ii+=1\n",
    "plt.show()"
   ]
  },
  {
   "cell_type": "markdown",
   "metadata": {},
   "source": [
    "1. \"RPI\"= real personal income\n",
    "2. \"INDPRO\", =industrial production\n",
    "3. \"IPMANSICS\" = industrial production manufacturing\n",
    "4. \"CUMFNS\"= capacity utilization\n",
    "5. \"PAYEMS\"=Total nonfarm payroll\n",
    "6. \"MANEMP\"=Total nonfarm payroll manufactuing\n",
    "7. \"CLAIMSx\"=initial claims\n",
    "8. \"UNRATE\"=unempl rate\n",
    "9. \"CES2000000008\"= Avg Earning Manufacturing\n",
    "10. \"CES3000000008\", Avg Earning Construction\n",
    "11. \"DPCERA3M086SBEA\"= Real Personal Consumption exepnditure\n",
    "12. \"UMCSENTx\"=Consumer Sentiment index\n",
    "13. \"CPIAUCSL\"= CPI All: headline\n",
    "14. \"CPIULFSL= CPI Core: Less Food (energy included)\n",
    "15. retail sales to add\n",
    "\n",
    "\n",
    "\n",
    "1. change target using h-step ahead\n",
    "2. abrchart variable each forecast horizon\n",
    "3. table as Bai/Ng with rmsfe ratio per each step-head.\n"
   ]
  },
  {
   "cell_type": "code",
   "execution_count": null,
   "metadata": {},
   "outputs": [],
   "source": [
    "important_var = [\"RPI\", \"INDPRO\", \"IPMANSICS\", \"CUMFNS\", \"PAYEMS\", \"MANEMP\", \"CLAIMSx\", \"UNRATE\", \"CES2000000008\", \"CES3000000008\", \"DPCERA3M086SBEA\", \n",
    "                \"UMCSENTx\", \"CPIAUCSL\", \"CPIULFSL\", \"CUSR0000SAC\"]\n",
    "\n",
    "spreads = ['AAAFFM', 'BAAFFM', 'T10YFFM', 'T1YFFM', 'T5YFFM', 'TB3SMFFM',\n",
    "       'TB6SMFFM']"
   ]
  },
  {
   "cell_type": "code",
   "execution_count": null,
   "metadata": {},
   "outputs": [],
   "source": [
    "pd.set_option('display.max_rows', 150)\n",
    "rmsfe_var_sel = rmsfe_ratio_per_models_step.loc[important_var]\n",
    "\n",
    "fig, ax = plt.subplots(1,4, figsize=(25,6))\n",
    "ii = 0\n",
    "for i in ['t1', 't6', 't12', 't24']:#rmsfe_ratio_per_models_step.columns.unique(\"step-ahead\"):\n",
    "    rmsfe_i = rmsfe_var_sel.xs(i, axis=1, level=1)\n",
    "    ((rmsfe_i <= 1).sum()/len(rmsfe_i)).sort_index().sort_values().plot(title = i, kind=\"barh\", ax=ax[ii])\n",
    "    ax[ii].axvline(0.5, linestyle=\"--\", color='red', linewidth=0.7)\n",
    "    ii+=1\n",
    "plt.show()"
   ]
  },
  {
   "cell_type": "markdown",
   "metadata": {},
   "source": [
    "## Var Selected"
   ]
  },
  {
   "cell_type": "code",
   "execution_count": null,
   "metadata": {},
   "outputs": [],
   "source": [
    "rmsfe_mdl_min = rmsfe_var_sel.stack(\"step-ahead\")\n",
    "best_mdl_per_var = []\n",
    "for i in rmsfe_mdl_min.index:\n",
    "    min_i = rmsfe_mdl_min.xs(i).min()\n",
    "    if min_i <=1:\n",
    "        best_mdl_per_var.append(list(i) + [rmsfe_mdl_min.xs(i)[rmsfe_mdl_min.xs(i) == min_i].index[0]])\n",
    "    else:\n",
    "        best_mdl_per_var.append(list(i) + [\"AR(1)\"])\n",
    "best_mdl_per_var = pd.DataFrame(best_mdl_per_var, columns=[\"variable\", \"step-ahead\", \"model\"])"
   ]
  },
  {
   "cell_type": "code",
   "execution_count": null,
   "metadata": {},
   "outputs": [],
   "source": [
    "best_mdl_per_var.set_index([\"variable\", \"step-ahead\"]).unstack(\"step-ahead\")"
   ]
  },
  {
   "cell_type": "code",
   "execution_count": null,
   "metadata": {},
   "outputs": [],
   "source": [
    "ratio_best_mdl = best_mdl_per_var.groupby([\"model\", \"step-ahead\"]).count()/len(best_mdl_per_var[\"variable\"].unique())\n",
    "fig, ax = plt.subplots(1,4,figsize=(25,6))\n",
    "ii = 0\n",
    "for step in ['t1', 't6', 't12', 't24']:\n",
    "    ratio_best_mdl.xs(step, level=\"step-ahead\").sort_values(by=\"variable\").plot(title=step, kind=\"barh\", ax=ax[ii])\n",
    "    ii+=1\n",
    "plt.show()"
   ]
  },
  {
   "cell_type": "markdown",
   "metadata": {},
   "source": [
    "## Improvement"
   ]
  },
  {
   "cell_type": "code",
   "execution_count": null,
   "metadata": {},
   "outputs": [],
   "source": [
    "rmsfe_var_sel.filter(like=\"t1\")"
   ]
  },
  {
   "cell_type": "code",
   "execution_count": null,
   "metadata": {},
   "outputs": [],
   "source": [
    "aa = rmsfe_var_sel # rmsfe_ratio_per_models_step, rmsfe_var_sel\n",
    "improv_perc = []\n",
    "for i in aa.columns.unique(\"model\"):\n",
    "    # print(i, aa[i][aa[i] < 1].mean())\n",
    "    improv_perc.append((aa[i].mean() -1).values)\n",
    "    "
   ]
  },
  {
   "cell_type": "code",
   "execution_count": null,
   "metadata": {},
   "outputs": [],
   "source": [
    "pd.DataFrame(improv_perc, index=aa.columns.unique(\"model\"), columns=[\"t1\", \"t6\", \"t12\", \"t24\"])"
   ]
  },
  {
   "cell_type": "code",
   "execution_count": null,
   "metadata": {},
   "outputs": [],
   "source": [
    "aa[i][aa[i] < 1].mean()"
   ]
  },
  {
   "cell_type": "markdown",
   "metadata": {},
   "source": [
    "## All Variables"
   ]
  },
  {
   "cell_type": "code",
   "execution_count": null,
   "metadata": {},
   "outputs": [],
   "source": [
    "rmsfe_mdl_min = rmsfe_ratio_per_models_step.stack(\"step-ahead\")\n",
    "best_mdl_per_var = []\n",
    "for i in rmsfe_mdl_min.index:\n",
    "    min_i = rmsfe_mdl_min.xs(i).min()\n",
    "    if min_i <=1:\n",
    "        best_mdl_per_var.append(list(i) + [rmsfe_mdl_min.xs(i)[rmsfe_mdl_min.xs(i) == min_i].index[0]])\n",
    "    else:\n",
    "        best_mdl_per_var.append(list(i) + [\"AR(1)\"])\n",
    "best_mdl_per_var = pd.DataFrame(best_mdl_per_var, columns=[\"variable\", \"step-ahead\", \"model\"])"
   ]
  },
  {
   "cell_type": "code",
   "execution_count": null,
   "metadata": {},
   "outputs": [],
   "source": [
    "ratio_best_mdl = best_mdl_per_var.groupby([\"model\", \"step-ahead\"]).count()/len(best_mdl_per_var[\"variable\"].unique())\n",
    "fig, ax = plt.subplots(1,4,figsize=(25,6))\n",
    "ii = 0\n",
    "for step in ['t1', 't6', 't12', 't24']:\n",
    "    ratio_best_mdl.xs(step, level=\"step-ahead\").sort_values(by=\"variable\").plot(title=step, kind=\"barh\", ax=ax[ii])\n",
    "    ii+=1\n",
    "plt.show()"
   ]
  },
  {
   "cell_type": "code",
   "execution_count": null,
   "metadata": {},
   "outputs": [],
   "source": []
  },
  {
   "cell_type": "code",
   "execution_count": null,
   "metadata": {},
   "outputs": [],
   "source": [
    "rmsfe_ratio_min = rmsfe_ratio.groupby(level=[0,1]).idxmin()[\"RMSFE\"].values.tolist()\n",
    "rmsfe_ratio_min = pd.DataFrame(rmsfe_ratio_min, columns =['variable', 'step-ahead', 'model'])"
   ]
  },
  {
   "cell_type": "code",
   "execution_count": null,
   "metadata": {},
   "outputs": [],
   "source": [
    "rmsfe_ratio_min.groupby([\"model\"]).count()[\"variable\"].sort_values().plot(kind='bar', figsize=(10,4))"
   ]
  },
  {
   "cell_type": "code",
   "execution_count": null,
   "metadata": {},
   "outputs": [],
   "source": []
  },
  {
   "cell_type": "code",
   "execution_count": null,
   "metadata": {},
   "outputs": [],
   "source": []
  },
  {
   "cell_type": "code",
   "execution_count": null,
   "metadata": {},
   "outputs": [],
   "source": [
    "# Load results\n",
    "# rmsfe_ar = pd.read_csv(f\"{parentdir}/examples/empirical/results/rmsfe_ar1_all.csv\", index_col=[0,1,2])\n",
    "# rmsfe_ar.index.names=[\"variable\", \"step-ahead\", \"model\"]\n",
    "# rmsfe_ar.columns =[\"RMSFE\"]\n",
    "# rmsfe_ar = rmsfe_ar.droplevel(\"model\")\n",
    "mdls_pred = pd.read_csv(f\"{parentdir}/examples/empirical/results/bai_ng_results_final_publ_lag0_final.csv\", index_col=[0,1,2])\n",
    "mdls_pred"
   ]
  },
  {
   "cell_type": "code",
   "execution_count": null,
   "metadata": {},
   "outputs": [],
   "source": [
    "mdls_pred.xs(\"CPIAUCSL\").xs(\"t1\").rolling(12, min_periods=1).sum().plot(figsize=(15,10))"
   ]
  },
  {
   "cell_type": "code",
   "execution_count": null,
   "metadata": {},
   "outputs": [],
   "source": []
  }
 ],
 "metadata": {
  "kernelspec": {
   "display_name": "Python 3 (ipykernel)",
   "language": "python",
   "name": "python3"
  },
  "language_info": {
   "codemirror_mode": {
    "name": "ipython",
    "version": 3
   },
   "file_extension": ".py",
   "mimetype": "text/x-python",
   "name": "python",
   "nbconvert_exporter": "python",
   "pygments_lexer": "ipython3",
   "version": "3.8.10"
  }
 },
 "nbformat": 4,
 "nbformat_minor": 4
}
