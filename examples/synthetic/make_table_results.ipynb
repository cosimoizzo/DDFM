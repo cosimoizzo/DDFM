{
 "cells": [
  {
   "cell_type": "code",
   "execution_count": null,
   "metadata": {
    "pycharm": {
     "name": "#%%\n"
    }
   },
   "outputs": [],
   "source": [
    "import numpy as np\n",
    "import pandas as pd\n",
    "import itertools\n",
    "import os\n",
    "\n",
    "from scipy.stats import wilcoxon\n",
    "\n",
    "floder_results = \"results\""
   ]
  },
  {
   "cell_type": "code",
   "execution_count": null,
   "metadata": {
    "pycharm": {
     "name": "#%%\n"
    }
   },
   "outputs": [],
   "source": [
    "# function to convert settings to file name\n",
    "def return_file_name(non_linear=False, factors=1, sample=50, α=0, ρ=0.5, n_vars=10, missings=0):\n",
    "    this_comb = tuple((factors, sample, missings, n_vars, non_linear, ρ, α))\n",
    "    return str(this_comb).replace(\",\", \"\").replace(\"(\", \"\").replace(\")\", \"\").replace(\" \", \"_\")\n",
    "# function to compute statistics\n",
    "def compute_stats(df, mo, models, stats):\n",
    "    assert len(models) == 2\n",
    "    j_m = models.index(mo)\n",
    "    if j_m == 0:\n",
    "        _j_m = 1\n",
    "    else:\n",
    "        _j_m = 0\n",
    "    d = df[mo].values - df[models[_j_m]].values\n",
    "    series = df[mo].values\n",
    "    if stats == \"median\":\n",
    "        _out = np.median(series)\n",
    "    elif stats == \"mean\":\n",
    "        _out = np.mean(series)\n",
    "    elif stats == \"std\":\n",
    "        _out = np.std(series)\n",
    "    elif stats == \"wilcoxon_stat_two_sided\":\n",
    "        _out = wilcoxon(d)\n",
    "    elif stats == \"wilcoxon_stat_one_sided\":\n",
    "        if np.median(d) > 0:\n",
    "            _out = wilcoxon(d, alternative=\"greater\")\n",
    "        else:\n",
    "            _out = wilcoxon(d, alternative=\"less\")\n",
    "    return _out"
   ]
  },
  {
   "cell_type": "code",
   "execution_count": null,
   "metadata": {
    "pycharm": {
     "name": "#%%\n"
    }
   },
   "outputs": [],
   "source": [
    "# compute stats in all files\n",
    "list_done_files = os.listdir(\"./\" + floder_results)\n",
    "dict_results = dict()\n",
    "for this_file in list_done_files:\n",
    "    if this_file[-4:] == \".csv\":\n",
    "        # init dict info\n",
    "        sum_stat_res_from_csv = {'median': list(), \n",
    "                                 'mean': list(), \n",
    "                                 'std': list(), \n",
    "                                 'wilcoxon_stat_two_sided': list(), \n",
    "                                 'wilcoxon_stat_one_sided': list()}\n",
    "        by_model_sum_stat_res_from_csv = {'dfm': sum_stat_res_from_csv.copy(), \n",
    "                                         'ddfm': sum_stat_res_from_csv.copy()}\n",
    "\n",
    "        # read file\n",
    "        this_df = pd.read_csv(floder_results + \"/\" + this_file)\n",
    "        this_df[\"dfm\"] = np.maximum(this_df[\"dfm smoothed\"].values, this_df[\"dfm filtered\"].values)\n",
    "        this_df[\"ddfm\"] = this_df[\"ddfm code\"].values\n",
    "        list_models = list(by_model_sum_stat_res_from_csv.keys())\n",
    "        list_stats = sum_stat_res_from_csv.keys()\n",
    "        for mo in list_models:\n",
    "            for stats in list_stats:\n",
    "                _outt = compute_stats(this_df, mo, list_models, stats)\n",
    "                by_model_sum_stat_res_from_csv[mo][stats] = _outt\n",
    "        dict_results[this_file[:-4]] = by_model_sum_stat_res_from_csv"
   ]
  },
  {
   "cell_type": "code",
   "execution_count": null,
   "metadata": {
    "pycharm": {
     "name": "#%%\n"
    }
   },
   "outputs": [],
   "source": [
    "# fill excel files\n",
    "worksheet = \"linear\"\n",
    "non_linear = worksheet==\"nonlinear\"\n",
    "n_digits_round = 3\n",
    "stat = \"median\"\n",
    "import openpyxl\n",
    "xfile = openpyxl.load_workbook('results_summary.xlsx')\n",
    "sheet = xfile.get_sheet_by_name(worksheet)\n",
    "def map_diff_to_value_with_sign(to_write_in_diff, wilcoxon_stat):\n",
    "    if abs(to_write_in_diff) > 0:\n",
    "        if (wilcoxon_stat <= 0.1)*(wilcoxon_stat>0.05):\n",
    "            to_write_in_diff = str(to_write_in_diff) + \"*\"\n",
    "        elif (wilcoxon_stat <= 0.05)*(wilcoxon_stat > 0.01):\n",
    "            to_write_in_diff = str(to_write_in_diff) + \"**\"\n",
    "        elif wilcoxon_stat <= 0.01:\n",
    "            to_write_in_diff = str(to_write_in_diff) + \"***\"\n",
    "    return to_write_in_diff\n",
    "for tables in [0, 1]:\n",
    "    # first 2 sub-tables\n",
    "    factors = sheet['B'+str(1+(19*tables))].value\n",
    "    for i in range(4, 20):\n",
    "        # first sub-table\n",
    "        sample = sheet['B'+str(2+(19*tables))].value\n",
    "        alpha = sheet['A'+str(i+(19*tables))].value\n",
    "        rho = sheet['B'+str(i+(19*tables))].value\n",
    "        n_vars = sheet['C'+str(i+(19*tables))].value\n",
    "        missings = sheet['D'+str(i+(19*tables))].value\n",
    "        this_res = dict_results[return_file_name(non_linear=non_linear, factors=factors, sample=sample, \n",
    "                                                 α=alpha, ρ=rho, n_vars=n_vars, missings=missings)]\n",
    "        sheet['E'+str(i+(19*tables))] = np.round(this_res[\"ddfm\"][stat], n_digits_round)\n",
    "        sheet['F'+str(i+(19*tables))] = np.round(this_res[\"dfm\"][stat], n_digits_round)\n",
    "        wilcoxon_stat = this_res['dfm']['wilcoxon_stat_two_sided'][1]\n",
    "        to_write_in_diff = np.round(this_res[\"ddfm\"][stat], n_digits_round) - np.round(this_res[\"dfm\"][stat], n_digits_round)\n",
    "        to_write_in_diff = np.round(to_write_in_diff, n_digits_round)\n",
    "        to_write_in_diff = map_diff_to_value_with_sign(to_write_in_diff, wilcoxon_stat)\n",
    "        sheet['G'+str(i+(19*tables))] = to_write_in_diff\n",
    "        # second sub-table\n",
    "        sample = sheet['H'+str(2+(19*tables))].value\n",
    "        alpha = sheet['H'+str(i+(19*tables))].value\n",
    "        rho = sheet['I'+str(i+(19*tables))].value\n",
    "        n_vars = sheet['J'+str(i+(19*tables))].value\n",
    "        missings = sheet['K'+str(i+(19*tables))].value\n",
    "        this_res = dict_results[return_file_name(non_linear=non_linear, factors=factors, sample=sample, \n",
    "                                                 α=alpha, ρ=rho, n_vars=n_vars, missings=missings)]\n",
    "        sheet['L'+str(i+(19*tables))] = np.round(this_res[\"ddfm\"][stat], n_digits_round)\n",
    "        sheet['M'+str(i+(19*tables))] = np.round(this_res[\"dfm\"][stat], n_digits_round)\n",
    "        wilcoxon_stat = this_res['dfm']['wilcoxon_stat_two_sided'][1]\n",
    "        to_write_in_diff = np.round(this_res[\"ddfm\"][stat], n_digits_round) - np.round(this_res[\"dfm\"][stat], n_digits_round)\n",
    "        to_write_in_diff = np.round(to_write_in_diff, n_digits_round)\n",
    "        to_write_in_diff = map_diff_to_value_with_sign(to_write_in_diff, wilcoxon_stat)\n",
    "        sheet['N'+str(i+(19*tables))] = to_write_in_diff\n",
    "# save file\n",
    "xfile.save('results_summary.xlsx')"
   ]
  },
  {
   "cell_type": "code",
   "execution_count": null,
   "metadata": {
    "pycharm": {
     "name": "#%%\n"
    }
   },
   "outputs": [],
   "source": []
  }
 ],
 "metadata": {
  "@webio": {
   "lastCommId": null,
   "lastKernelId": null
  },
  "kernelspec": {
   "display_name": "Python 3 (ipykernel)",
   "language": "python",
   "name": "python3"
  },
  "language_info": {
   "codemirror_mode": {
    "name": "ipython",
    "version": 3
   },
   "file_extension": ".py",
   "mimetype": "text/x-python",
   "name": "python",
   "nbconvert_exporter": "python",
   "pygments_lexer": "ipython3",
   "version": "3.8.10"
  }
 },
 "nbformat": 4,
 "nbformat_minor": 4
}
