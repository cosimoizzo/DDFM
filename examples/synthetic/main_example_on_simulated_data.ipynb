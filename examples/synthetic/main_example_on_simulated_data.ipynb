{
 "cells": [
  {
   "cell_type": "markdown",
   "metadata": {
    "pycharm": {
     "name": "#%% md\n"
    }
   },
   "source": [
    "# This Notebook contains examples on simulated data"
   ]
  },
  {
   "cell_type": "code",
   "execution_count": null,
   "metadata": {
    "pycharm": {
     "name": "#%%\n"
    }
   },
   "outputs": [],
   "source": [
    "import sys\n",
    "# import os,inspect\n",
    "# currentdir = os.path.dirname(os.path.abspath(inspect.getfile(inspect.currentframe())))\n",
    "# parentdir = os.path.dirname(currentdir)\n",
    "# parentdir = os.path.dirname(parentdir)\n",
    "parentdir = \"C:\\\\Users\\\\cosim\\\\PycharmProjects\\\\DDFM\"\n",
    "sys.path.insert(0,parentdir)\n",
    "import random\n",
    "import numpy as np\n",
    "import pandas as pd\n",
    "from synthetic_dgp.simulate import SIMULATE\n",
    "from statsmodels.tsa.statespace.dynamic_factor_mq import DynamicFactorMQ as DFM\n",
    "from models.ddfm import DDFM\n",
    "import warnings\n",
    "warnings.filterwarnings(\"ignore\")"
   ]
  },
  {
   "cell_type": "code",
   "execution_count": null,
   "metadata": {
    "pycharm": {
     "name": "#%%\n"
    }
   },
   "outputs": [],
   "source": [
    "# seed setting\n",
    "seed = 123\n",
    "random.seed(seed)\n",
    "np.random.seed(seed)\n",
    "# set poly degree, if 1 then linear and the encoder structure is modified to linear single layer\n",
    "poly_degree = 2\n",
    "# init results storage\n",
    "results_dfm = np.zeros(2)\n",
    "results_ddfm = np.zeros(1)\n",
    "results_ddfm_nnlin_dec = np.zeros(2)\n",
    "# params sim data\n",
    "n_obs = 150\n",
    "r = 3\n",
    "portion_missings = 0.2\n",
    "# simulate data\n",
    "sim_40 = SIMULATE(seed=seed, n=40, r=r, poly_degree=poly_degree)\n",
    "sim_150 = SIMULATE(seed=seed, n=150, r=r, poly_degree=poly_degree)"
   ]
  },
  {
   "cell_type": "markdown",
   "metadata": {
    "pycharm": {
     "name": "#%% md\n"
    }
   },
   "source": [
    "## Simulate data 40"
   ]
  },
  {
   "cell_type": "code",
   "execution_count": null,
   "metadata": {
    "pycharm": {
     "name": "#%%\n"
    }
   },
   "outputs": [],
   "source": [
    "x = sim_40.simulate(n_obs, portion_missings=portion_missings)\n",
    "r_true = sim_40.f.shape[1]\n",
    "if poly_degree == 1:\n",
    "    # For linear to set the following\n",
    "    structure_encoder = (r_true,)\n",
    "else:\n",
    "    structure_encoder = (r_true * 6, r_true * 4, r_true * 2, r_true)\n",
    "# for nonlinear decoder   \n",
    "structure_encoder_nnlin = (r_true, r * 9, r * 3, r)\n",
    "structure_decoder_nnlin = (r * 3, r * 9, r_true)"
   ]
  },
  {
   "cell_type": "code",
   "execution_count": null,
   "metadata": {
    "pycharm": {
     "name": "#%%\n"
    }
   },
   "outputs": [],
   "source": [
    "%%time\n",
    "# estimate dfm\n",
    "dyn_fact_mdl = DFM(pd.DataFrame(x), factors=min(r_true, x.shape[1]), factor_orders=1)\n",
    "res_dyn_fact_mdl = dyn_fact_mdl.fit(disp=1000, maxiter=10000)"
   ]
  },
  {
   "cell_type": "code",
   "execution_count": null,
   "metadata": {
    "pycharm": {
     "name": "#%%\n"
    }
   },
   "outputs": [],
   "source": [
    "results_dfm[0] = sim_40.evaluate(res_dyn_fact_mdl.factors.smoothed.values, f_true=sim_40.f)\n",
    "results_dfm[1] = sim_40.evaluate(res_dyn_fact_mdl.factors.filtered.values, f_true=sim_40.f)\n",
    "print(results_dfm)"
   ]
  },
  {
   "cell_type": "code",
   "execution_count": null,
   "metadata": {
    "pycharm": {
     "name": "#%%\n"
    }
   },
   "outputs": [],
   "source": [
    "%%time\n",
    "# estimate ddfm (with linear decoder)\n",
    "deep_dyn_fact_mdl = DDFM(pd.DataFrame(x), structure_encoder=structure_encoder, factor_oder=1,\n",
    "                             use_bias=False, link='relu', max_iter=1000)\n",
    "deep_dyn_fact_mdl.fit()"
   ]
  },
  {
   "cell_type": "code",
   "execution_count": null,
   "metadata": {
    "pycharm": {
     "name": "#%%\n"
    }
   },
   "outputs": [],
   "source": [
    "results_ddfm[0] = sim_40.evaluate(np.mean(deep_dyn_fact_mdl.factors, axis=0), f_true=sim_40.f)\n",
    "print(results_ddfm)"
   ]
  },
  {
   "cell_type": "code",
   "execution_count": null,
   "metadata": {},
   "outputs": [],
   "source": [
    "%%time\n",
    "# estimate ddfm (with nonlinear decoder)\n",
    "deep_dyn_fact_mdl_nnlin = DDFM(pd.DataFrame(x), \n",
    "                               structure_encoder=structure_encoder_nnlin, \n",
    "                               factor_oder=1,\n",
    "                               structure_decoder=structure_decoder_nnlin,\n",
    "                               use_bias=False, link='relu', max_iter=1000)\n",
    "deep_dyn_fact_mdl_nnlin.fit()"
   ]
  },
  {
   "cell_type": "code",
   "execution_count": null,
   "metadata": {},
   "outputs": [],
   "source": [
    "results_ddfm_nnlin_dec[0] = sim_40.evaluate(np.mean(deep_dyn_fact_mdl_nnlin.last_neurons, axis=0), f_true=sim_40.f)\n",
    "results_ddfm_nnlin_dec[1] = sim_40.evaluate(np.mean(deep_dyn_fact_mdl_nnlin.factors, axis=0), f_true=sim_40.linear_f)\n",
    "print(\"last neurons\", results_ddfm_nnlin_dec[0])\n",
    "print(\"code layer against linear f\", results_ddfm_nnlin_dec[1])"
   ]
  },
  {
   "cell_type": "markdown",
   "metadata": {
    "pycharm": {
     "name": "#%% md\n"
    }
   },
   "source": [
    "\n",
    "## Simulate data 150"
   ]
  },
  {
   "cell_type": "code",
   "execution_count": null,
   "metadata": {
    "pycharm": {
     "name": "#%%\n"
    }
   },
   "outputs": [],
   "source": [
    "x = sim_150.simulate(n_obs, portion_missings=portion_missings)\n",
    "r_true = sim_150.f.shape[1]\n",
    "if poly_degree == 1:\n",
    "    # For linear to set the following\n",
    "    structure_encoder = (r_true,)\n",
    "else:\n",
    "    structure_encoder = (r_true * 6, r_true * 4, r_true * 2, r_true)\n",
    "# for nonlinear decoder   \n",
    "structure_encoder_nnlin = (r_true, r * 9, r * 3, r)\n",
    "structure_decoder_nnlin = (r * 3, r * 9, r_true)"
   ]
  },
  {
   "cell_type": "code",
   "execution_count": null,
   "metadata": {
    "pycharm": {
     "name": "#%%\n"
    }
   },
   "outputs": [],
   "source": [
    "%%time\n",
    "# estimate dfm\n",
    "dyn_fact_mdl = DFM(pd.DataFrame(x), factors=min(r_true, x.shape[1]), factor_orders=1)\n",
    "res_dyn_fact_mdl = dyn_fact_mdl.fit(disp=1000, maxiter=1000)"
   ]
  },
  {
   "cell_type": "code",
   "execution_count": null,
   "metadata": {
    "pycharm": {
     "name": "#%%\n"
    }
   },
   "outputs": [],
   "source": [
    "results_dfm[0] = sim_150.evaluate(res_dyn_fact_mdl.factors.smoothed.values, f_true=sim_150.f)\n",
    "results_dfm[1] = sim_150.evaluate(res_dyn_fact_mdl.factors.filtered.values, f_true=sim_150.f)\n",
    "print(results_dfm)"
   ]
  },
  {
   "cell_type": "code",
   "execution_count": null,
   "metadata": {
    "pycharm": {
     "name": "#%%\n"
    }
   },
   "outputs": [],
   "source": [
    "%%time\n",
    "# estimate ddfm\n",
    "deep_dyn_fact_mdl = DDFM(pd.DataFrame(x), structure_encoder=structure_encoder, factor_oder=1,\n",
    "                             use_bias=False, link='relu',\n",
    "                         max_iter=1000)\n",
    "deep_dyn_fact_mdl.fit()"
   ]
  },
  {
   "cell_type": "code",
   "execution_count": null,
   "metadata": {
    "pycharm": {
     "name": "#%%\n"
    }
   },
   "outputs": [],
   "source": [
    "results_ddfm[0] = sim_150.evaluate(np.mean(deep_dyn_fact_mdl.factors, axis=0), f_true=sim_150.f)\n",
    "print(results_ddfm)"
   ]
  },
  {
   "cell_type": "code",
   "execution_count": null,
   "metadata": {
    "collapsed": false,
    "jupyter": {
     "outputs_hidden": false
    },
    "pycharm": {
     "name": "#%%\n"
    }
   },
   "outputs": [],
   "source": [
    "%%time\n",
    "# estimate ddfm (with nonlinear decoder)\n",
    "deep_dyn_fact_mdl_nnlin = DDFM(pd.DataFrame(x), \n",
    "                               structure_encoder=structure_encoder_nnlin, \n",
    "                               factor_oder=1,\n",
    "                               structure_decoder=structure_decoder_nnlin,\n",
    "                               use_bias=False, link='relu', max_iter=1000)\n",
    "deep_dyn_fact_mdl_nnlin.fit()"
   ]
  },
  {
   "cell_type": "code",
   "execution_count": null,
   "metadata": {
    "collapsed": false,
    "jupyter": {
     "outputs_hidden": false
    },
    "pycharm": {
     "name": "#%%\n"
    }
   },
   "outputs": [],
   "source": [
    "results_ddfm_nnlin_dec[0] = sim_40.evaluate(np.mean(deep_dyn_fact_mdl_nnlin.last_neurons, axis=0), f_true=sim_40.f)\n",
    "results_ddfm_nnlin_dec[1] = sim_40.evaluate(np.mean(deep_dyn_fact_mdl_nnlin.factors, axis=0), f_true=sim_40.linear_f)\n",
    "print(\"last neurons\", results_ddfm_nnlin_dec[0])\n",
    "print(\"code layer against linear f\", results_ddfm_nnlin_dec[1])"
   ]
  }
 ],
 "metadata": {
  "kernelspec": {
   "display_name": "Python 3 (ipykernel)",
   "language": "python",
   "name": "python3"
  },
  "language_info": {
   "codemirror_mode": {
    "name": "ipython",
    "version": 3
   },
   "file_extension": ".py",
   "mimetype": "text/x-python",
   "name": "python",
   "nbconvert_exporter": "python",
   "pygments_lexer": "ipython3",
   "version": "3.8.10"
  }
 },
 "nbformat": 4,
 "nbformat_minor": 4
}
