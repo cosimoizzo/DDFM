{
 "cells": [
  {
   "cell_type": "code",
   "execution_count": null,
   "metadata": {
    "ExecuteTime": {
     "end_time": "2023-12-18T22:27:18.701853300Z",
     "start_time": "2023-12-18T22:27:00.682965300Z"
    },
    "pycharm": {
     "name": "#%%\n"
    }
   },
   "outputs": [],
   "source": [
    "import numpy as np\n",
    "import pandas as pd\n",
    "import itertools\n",
    "import os\n",
    "\n",
    "from scipy.stats import wilcoxon\n",
    "\n",
    "floder_results = \"C:\\\\Users\\\\cosim\\\\PycharmProjects\\\\DDFM\\\\examples\\\\synthetic\\\\results_new\""
   ]
  },
  {
   "cell_type": "code",
   "execution_count": null,
   "metadata": {
    "ExecuteTime": {
     "end_time": "2023-12-18T22:27:18.736694100Z",
     "start_time": "2023-12-18T22:27:18.705340500Z"
    },
    "pycharm": {
     "name": "#%%\n"
    }
   },
   "outputs": [],
   "source": [
    "# function to convert settings to file name\n",
    "def return_file_name(non_linear=False, factors=1, sample=50, α=0, ρ=0.5, n_vars=10, missings=0):\n",
    "    this_comb = tuple((factors, sample, missings, n_vars, non_linear, ρ, α))\n",
    "    return str(this_comb).replace(\",\", \"\").replace(\"(\", \"\").replace(\")\", \"\").replace(\" \", \"_\")\n",
    "# function to compute statistics\n",
    "def compute_stats(df, mo, stats, round=3):\n",
    "    series = df[mo].values\n",
    "    if stats == \"median\":\n",
    "        _out = np.median(series)\n",
    "    elif stats == \"mean\":\n",
    "        _out = np.mean(series)\n",
    "    elif stats == \"std\":\n",
    "        _out = np.std(series)\n",
    "    return np.round(_out,round)"
   ]
  },
  {
   "cell_type": "code",
   "execution_count": null,
   "metadata": {
    "ExecuteTime": {
     "end_time": "2023-12-18T22:27:18.794755700Z",
     "start_time": "2023-12-18T22:27:18.737928300Z"
    },
    "pycharm": {
     "name": "#%%\n"
    }
   },
   "outputs": [],
   "source": [
    "# compute stats in all files\n",
    "#list_done_files = os.listdir(\"./\" + floder_results)\n",
    "list_done_files = os.listdir(floder_results)\n",
    "dict_results_mean = dict()\n",
    "dict_results_median = dict()\n",
    "dict_results_std = dict()\n",
    "for this_file in list_done_files:\n",
    "    if this_file[-4:] == \".csv\":\n",
    "        # init dict info\n",
    "        sum_stat_res_from_csv = {'median': list(), \n",
    "                                 'mean': list(), \n",
    "                                 'std': list()}\n",
    "        by_model_sum_stat_res_from_csv = {'dfm': sum_stat_res_from_csv.copy(),\n",
    "                                          'ddfm': sum_stat_res_from_csv.copy(),\n",
    "                                          'ddfm code reduced size': sum_stat_res_from_csv.copy(),\n",
    "                                          'ddfm code reduced size vs linear f': sum_stat_res_from_csv.copy(),\n",
    "                                          'ddfm nnlin last neurons': sum_stat_res_from_csv.copy(),\n",
    "                                          'ddfm nnlin code': sum_stat_res_from_csv.copy(),\n",
    "                                          'ddfm nnlin code vs linear f': sum_stat_res_from_csv.copy(),\n",
    "                                         }\n",
    "\n",
    "        # read file\n",
    "        this_df = pd.read_csv(floder_results + \"/\" + this_file)\n",
    "        this_df[\"dfm\"] = np.maximum(this_df[\"dfm smoothed\"].values, this_df[\"dfm filtered\"].values)\n",
    "        this_df[\"ddfm\"] = this_df[\"ddfm code\"].values\n",
    "        \n",
    "        list_models = list(by_model_sum_stat_res_from_csv.keys())\n",
    "        list_stats = sum_stat_res_from_csv.keys()\n",
    "        for mo in list_models:\n",
    "            for stats in list_stats:\n",
    "                _outt = compute_stats(this_df, mo, stats)\n",
    "                by_model_sum_stat_res_from_csv[mo][stats] = _outt\n",
    "        dict_results_mean[this_file[:-4]] = {key: item[\"mean\"] for key, item in by_model_sum_stat_res_from_csv.items()}\n",
    "        dict_results_median[this_file[:-4]] = {key: item[\"median\"] for key, item in by_model_sum_stat_res_from_csv.items()}\n",
    "        dict_results_std[this_file[:-4]] = {key: item[\"std\"] for key, item in by_model_sum_stat_res_from_csv.items()}"
   ]
  },
  {
   "cell_type": "code",
   "execution_count": null,
   "metadata": {
    "ExecuteTime": {
     "end_time": "2023-12-18T22:27:18.894248100Z",
     "start_time": "2023-12-18T22:27:18.798280800Z"
    }
   },
   "outputs": [],
   "source": [
    "writer = pd.ExcelWriter('results_with_ddfm_nonlin_decoder.xlsx',engine='xlsxwriter')   \n",
    "workbook=writer.book\n",
    "worksheet=workbook.add_worksheet('Mean')\n",
    "writer.sheets['Mean'] = worksheet\n",
    "pd.DataFrame(dict_results_mean).to_excel(writer,sheet_name='Mean')   \n",
    "worksheet=workbook.add_worksheet('Median')\n",
    "writer.sheets['Median'] = worksheet\n",
    "pd.DataFrame(dict_results_median).to_excel(writer,sheet_name='Median')   \n",
    "worksheet=workbook.add_worksheet('Std')\n",
    "writer.sheets['Std'] = worksheet\n",
    "pd.DataFrame(dict_results_std).to_excel(writer,sheet_name='Std')\n",
    "writer.close()"
   ]
  },
  {
   "cell_type": "code",
   "execution_count": null,
   "metadata": {},
   "outputs": [],
   "source": []
  }
 ],
 "metadata": {
  "@webio": {
   "lastCommId": null,
   "lastKernelId": null
  },
  "kernelspec": {
   "display_name": "Python 3 (ipykernel)",
   "language": "python",
   "name": "python3"
  },
  "language_info": {
   "codemirror_mode": {
    "name": "ipython",
    "version": 3
   },
   "file_extension": ".py",
   "mimetype": "text/x-python",
   "name": "python",
   "nbconvert_exporter": "python",
   "pygments_lexer": "ipython3",
   "version": "3.8.10"
  }
 },
 "nbformat": 4,
 "nbformat_minor": 4
}
