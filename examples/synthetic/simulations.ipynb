{
 "cells": [
  {
   "cell_type": "code",
   "execution_count": null,
   "metadata": {
    "pycharm": {
     "name": "#%%\n"
    }
   },
   "outputs": [],
   "source": [
    "import os,sys,inspect\n",
    "# currentdir = os.path.dirname(os.path.abspath(inspect.getfile(inspect.currentframe())))\n",
    "# parentdir = os.path.dirname(currentdir)\n",
    "# parentdir = os.path.dirname(parentdir)\n",
    "parentdir = \"C:\\\\Users\\\\cosim\\\\PycharmProjects\\\\DDFM\"\n",
    "sys.path.insert(0,parentdir)"
   ]
  },
  {
   "cell_type": "code",
   "execution_count": null,
   "metadata": {
    "pycharm": {
     "name": "#%%\n"
    }
   },
   "outputs": [],
   "source": [
    "from examples.synthetic.implementation.sim_est_get_results import  run_sims\n",
    "import itertools"
   ]
  },
  {
   "cell_type": "code",
   "execution_count": null,
   "metadata": {
    "pycharm": {
     "name": "#%%\n"
    }
   },
   "outputs": [],
   "source": [
    "#factors = [1, 3]\n",
    "factors = [3]\n",
    "#sample = [50, 200]\n",
    "sample = [200]\n",
    "missings = [0, 0.3]\n",
    "n_vars = [10, 100]\n",
    "#non_linear = [False, True]\n",
    "non_linear = [True]\n",
    "#ρ = [0.5, 0.9]\n",
    "ρ = [0.5]\n",
    "α = [0, 0.5]\n",
    "\n",
    "all_combs = itertools.product(*[factors, sample, \n",
    "                               missings, n_vars, \n",
    "                               non_linear, ρ, α])\n",
    "all_combs = list(all_combs)\n",
    "print('n configurations: ', len(all_combs))"
   ]
  },
  {
   "cell_type": "code",
   "execution_count": null,
   "metadata": {
    "pycharm": {
     "name": "#%%\n"
    }
   },
   "outputs": [],
   "source": [
    "# check which ones have not been run\n",
    "import os\n",
    "all_files = os.listdir()\n",
    "list_done = []\n",
    "for this_file in all_files:\n",
    "    if this_file[-4:] == \".csv\":\n",
    "        a_ = this_file[:-4].rsplit('_')\n",
    "        for j in range(2): a_[j] = int(a_[j])\n",
    "        if a_[2] == \"0\":\n",
    "            a_[2] = 0\n",
    "        else:\n",
    "            a_[2] = float(a_[2])\n",
    "        a_[3] = int(a_[3])\n",
    "        a_[4] = a_[4]==\"True\"\n",
    "        for j in range(5,7): a_[j] = float(a_[j])\n",
    "        list_done.append(tuple(a_))\n",
    "conf_left = []\n",
    "for j in all_combs:\n",
    "    if j not in list_done:\n",
    "        conf_left.append(j)\n",
    "print(\"conf left: \", len(conf_left))"
   ]
  },
  {
   "cell_type": "code",
   "execution_count": null,
   "metadata": {
    "pycharm": {
     "name": "#%%\n"
    }
   },
   "outputs": [],
   "source": [
    "# Start Parallel\n",
    "from joblib import Parallel, delayed\n",
    "n_cpu = 8 #-1\n",
    "Parallel(n_jobs = n_cpu, verbose=2)(delayed(run_sims)(this_comb) for this_comb in conf_left)"
   ]
  },
  {
   "cell_type": "markdown",
   "metadata": {
    "collapsed": false,
    "jupyter": {
     "outputs_hidden": false
    },
    "pycharm": {
     "name": "#%% md\n"
    }
   },
   "source": [
    "## run evaluation for elapsed time"
   ]
  },
  {
   "cell_type": "code",
   "execution_count": null,
   "metadata": {
    "collapsed": false,
    "jupyter": {
     "outputs_hidden": false
    },
    "pycharm": {
     "name": "#%%\n"
    }
   },
   "outputs": [],
   "source": [
    "import pickle\n",
    "from examples.synthetic.implementation.sim_est_get_results import compute_elapsed_time\n",
    "n_obs = [150, 300]\n",
    "n_vars = [50, 150, 300]\n",
    "results = compute_elapsed_time(n_obs, n_vars, seed=seed, n_sims=20)\n",
    "with open('results_comp_time.pickle', 'wb') as handle:\n",
    "    pickle.dump(results, handle, protocol=pickle.HIGHEST_PROTOCOL)"
   ]
  },
  {
   "cell_type": "code",
   "execution_count": null,
   "metadata": {
    "collapsed": false,
    "jupyter": {
     "outputs_hidden": false
    },
    "pycharm": {
     "name": "#%%\n"
    }
   },
   "outputs": [],
   "source": [
    "results[\"average_time_dfm\"]/results[\"average_time_ddfm\"]"
   ]
  }
 ],
 "metadata": {
  "@webio": {
   "lastCommId": null,
   "lastKernelId": null
  },
  "kernelspec": {
   "display_name": "Python 3 (ipykernel)",
   "language": "python",
   "name": "python3"
  },
  "language_info": {
   "codemirror_mode": {
    "name": "ipython",
    "version": 3
   },
   "file_extension": ".py",
   "mimetype": "text/x-python",
   "name": "python",
   "nbconvert_exporter": "python",
   "pygments_lexer": "ipython3",
   "version": "3.8.10"
  },
  "pycharm": {
   "stem_cell": {
    "cell_type": "raw",
    "metadata": {
     "collapsed": false
    },
    "source": []
   }
  }
 },
 "nbformat": 4,
 "nbformat_minor": 4
}
